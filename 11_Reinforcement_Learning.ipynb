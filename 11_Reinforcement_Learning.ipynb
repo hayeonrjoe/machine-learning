{
  "nbformat": 4,
  "nbformat_minor": 0,
  "metadata": {
    "colab": {
      "provenance": [],
      "authorship_tag": "ABX9TyPu33DDiYW+wxpRr37SWmvl"
    },
    "kernelspec": {
      "name": "python3",
      "display_name": "Python 3"
    },
    "language_info": {
      "name": "python"
    }
  },
  "cells": [
    {
      "cell_type": "code",
      "execution_count": 1,
      "metadata": {
        "id": "we8s3E-TgVZH"
      },
      "outputs": [],
      "source": [
        "# 라이브러리 가져오기\n",
        "import numpy as np\n",
        "import pandas as pd\n",
        "import matplotlib.pyplot as plt"
      ]
    },
    {
      "cell_type": "code",
      "source": [
        "# 합성 의료 데이터 생성\n",
        "np.random.seed(42)"
      ],
      "metadata": {
        "id": "VNobVYYJgnSS"
      },
      "execution_count": 2,
      "outputs": []
    },
    {
      "cell_type": "code",
      "source": [
        "# 나이, 혈압, 콜레스테롤 등과 같은 특징을 갖는 환자 데이터 무작위 생성\n",
        "num_patients = 1000\n",
        "data = pd.DataFrame({\n",
        "    'Age': np.random.randint(18, 80, num_patients),\n",
        "    'BloodPressure': np.random.randint(90, 160, num_patients),\n",
        "    'Cholesterol': np.random.randint(120, 240, num_patients),\n",
        "    'BMI': np.random.uniform(18.5, 30, num_patients),\n",
        "    'Smoker': np.random.choice([0, 1], num_patients),\n",
        "    'Diabetes': np.random.choice([0, 1], num_patients)\n",
        "})"
      ],
      "metadata": {
        "id": "ENCVQ9g4go7n"
      },
      "execution_count": 9,
      "outputs": []
    },
    {
      "cell_type": "code",
      "source": [
        "# Q-learning 매개변수 정의\n",
        "num_actions = 2  # 예: 0 - 치료 없음, 1 - 치료\n",
        "num_states = len(data.columns) # 데이터셋의 특징을 기반으로 상태의 수\n",
        "epsilon = 0.1 # 입실론-그리디 정책에 대한 탐험 비율\n",
        "alpha = 0.1 # Q-값을 업데이트하는 데 사용되는 학습률\n",
        "gamma = 0.9 # 즉각적인 보상과 미래 보상을 균형있게 고려하는 할인 계수\n",
        "num_episodes = 500 # Q-러닝 알고리즘이 실행될 총 에피소드 수"
      ],
      "metadata": {
        "id": "80nlXw5Fg-bF"
      },
      "execution_count": 10,
      "outputs": []
    },
    {
      "cell_type": "code",
      "source": [
        "# Q-테이블을 0으로 초기화\n",
        "Q_table = np.zeros((num_states, num_actions))"
      ],
      "metadata": {
        "id": "wha0Jwc4hCHx"
      },
      "execution_count": 11,
      "outputs": []
    },
    {
      "cell_type": "code",
      "source": [
        "# 입실론-그리디 정책을 기반으로 행동을 선택하는 함수 정의\n",
        "def choose_action(state):\n",
        "    if np.random.uniform(0, 1) < epsilon:\n",
        "        return np.random.choice(num_actions)  # 탐험\n",
        "    else:\n",
        "        return np.argmax(Q_table[state, :])  # 이용"
      ],
      "metadata": {
        "id": "NJrtmd29hE4A"
      },
      "execution_count": 12,
      "outputs": []
    },
    {
      "cell_type": "code",
      "source": [
        "# Q-러닝 업데이트 규칙을 사용하여 Q-값을 업데이트하는 함수 정의\n",
        "def update_q_value(state, action, reward, next_state):\n",
        "    max_next_state_value = np.max(Q_table[next_state, :])\n",
        "    Q_table[state, action] = (1 - alpha) * Q_table[state, action] + \\\n",
        "                             alpha * (reward + gamma * max_next_state_value)"
      ],
      "metadata": {
        "id": "f--52kMIhJ2n"
      },
      "execution_count": 13,
      "outputs": []
    },
    {
      "cell_type": "code",
      "source": [
        "# Q-러닝 알고리즘\n",
        "episode_rewards = []\n",
        "\n",
        "for episode in range(num_episodes):\n",
        "    total_reward = 0\n",
        "    current_state = np.random.choice(num_states)\n",
        "\n",
        "    while True:\n",
        "        action = choose_action(current_state)\n",
        "        # 데모 용도로 간단한 보상 함수 가정\n",
        "        reward = np.random.normal(0, 1)\n",
        "\n",
        "        total_reward += reward\n",
        "        next_state = np.random.choice(num_states)\n",
        "\n",
        "        update_q_value(current_state, action, reward, next_state)\n",
        "\n",
        "        current_state = next_state\n",
        "\n",
        "        if np.random.uniform(0, 1) < 0.05:  # 5%의 확률로 에피소드 종료\n",
        "            break\n",
        "\n",
        "    episode_rewards.append(total_reward)\n",
        "\n",
        "    if episode % 5 == 0:  # 간략하게 하기 위해 출력 빈도 감소\n",
        "        print(f\"Episode {episode}, Total Reward: {total_reward}\")"
      ],
      "metadata": {
        "colab": {
          "base_uri": "https://localhost:8080/"
        },
        "id": "TvURPmIQhQlA",
        "outputId": "349ca8fb-c1d2-4171-8434-a9e5722de24b"
      },
      "execution_count": 14,
      "outputs": [
        {
          "output_type": "stream",
          "name": "stdout",
          "text": [
            "Episode 0, Total Reward: -0.040275304136156376\n",
            "Episode 5, Total Reward: -11.434073059411652\n",
            "Episode 10, Total Reward: -0.10700960302669016\n",
            "Episode 15, Total Reward: 4.027021050054618\n",
            "Episode 20, Total Reward: -2.238288341108044\n",
            "Episode 25, Total Reward: -0.05964418404421612\n",
            "Episode 30, Total Reward: 0.6104122689003646\n",
            "Episode 35, Total Reward: 2.9869030489147934\n",
            "Episode 40, Total Reward: -1.501100725531718\n",
            "Episode 45, Total Reward: -0.11229643443825799\n",
            "Episode 50, Total Reward: 4.958266657614765\n",
            "Episode 55, Total Reward: 0.5723847881212931\n",
            "Episode 60, Total Reward: -5.226389368736784\n",
            "Episode 65, Total Reward: 1.1106949905347463\n",
            "Episode 70, Total Reward: -1.3828394027464737\n",
            "Episode 75, Total Reward: -5.774194408097951\n",
            "Episode 80, Total Reward: -0.34376347057234125\n",
            "Episode 85, Total Reward: 4.125455832887294\n",
            "Episode 90, Total Reward: -9.457970717739475\n",
            "Episode 95, Total Reward: 0.19711040527661255\n",
            "Episode 100, Total Reward: -6.428270505528395\n",
            "Episode 105, Total Reward: 0.25083595019990845\n",
            "Episode 110, Total Reward: -2.182690760126452\n",
            "Episode 115, Total Reward: 4.025887493643646\n",
            "Episode 120, Total Reward: -0.25016805827863914\n",
            "Episode 125, Total Reward: 0.4725332430603184\n",
            "Episode 130, Total Reward: 8.752764592167589\n",
            "Episode 135, Total Reward: -1.161963311531596\n",
            "Episode 140, Total Reward: 9.157534424303176\n",
            "Episode 145, Total Reward: -6.98669883711189\n",
            "Episode 150, Total Reward: 0.5908614767104421\n",
            "Episode 155, Total Reward: 2.7824093878204836\n",
            "Episode 160, Total Reward: 2.6257130944132507\n",
            "Episode 165, Total Reward: -0.8807160074663796\n",
            "Episode 170, Total Reward: -2.798476862959066\n",
            "Episode 175, Total Reward: 0.3997391756923282\n",
            "Episode 180, Total Reward: -3.1128234379905493\n",
            "Episode 185, Total Reward: 2.4098398196704944\n",
            "Episode 190, Total Reward: -3.098197545119063\n",
            "Episode 195, Total Reward: 1.6345157375511792\n",
            "Episode 200, Total Reward: 4.419623044116266\n",
            "Episode 205, Total Reward: 1.3296461230133356\n",
            "Episode 210, Total Reward: -2.7518783076349234\n",
            "Episode 215, Total Reward: 1.9824823863672179\n",
            "Episode 220, Total Reward: 6.465243470603305\n",
            "Episode 225, Total Reward: -0.10359648757891149\n",
            "Episode 230, Total Reward: 2.81953030743771\n",
            "Episode 235, Total Reward: 2.22320070993778\n",
            "Episode 240, Total Reward: 4.460160700721768\n",
            "Episode 245, Total Reward: 2.1444232838489254\n",
            "Episode 250, Total Reward: -1.344319092295125\n",
            "Episode 255, Total Reward: -1.6368656722605546\n",
            "Episode 260, Total Reward: 0.9553647909048605\n",
            "Episode 265, Total Reward: -3.540057436926175\n",
            "Episode 270, Total Reward: 3.566704499771526\n",
            "Episode 275, Total Reward: 6.954442960512002\n",
            "Episode 280, Total Reward: -4.6468753440242825\n",
            "Episode 285, Total Reward: 0.6970414537124232\n",
            "Episode 290, Total Reward: 2.157465992432165\n",
            "Episode 295, Total Reward: 3.8883018265142795\n",
            "Episode 300, Total Reward: 7.321324719610329\n",
            "Episode 305, Total Reward: -0.9442668233209914\n",
            "Episode 310, Total Reward: 0.03143876552828147\n",
            "Episode 315, Total Reward: 0.7139127073575404\n",
            "Episode 320, Total Reward: 1.59301167763854\n",
            "Episode 325, Total Reward: -0.05707578744076369\n",
            "Episode 330, Total Reward: 3.587097933075416\n",
            "Episode 335, Total Reward: -1.276142087752158\n",
            "Episode 340, Total Reward: 1.3493801016816496\n",
            "Episode 345, Total Reward: 2.381505995356781\n",
            "Episode 350, Total Reward: -0.9439754135756293\n",
            "Episode 355, Total Reward: -12.084381146604317\n",
            "Episode 360, Total Reward: 0.7211037321230246\n",
            "Episode 365, Total Reward: 1.1189915244279713\n",
            "Episode 370, Total Reward: 0.38350502961019006\n",
            "Episode 375, Total Reward: -1.519220476223088\n",
            "Episode 380, Total Reward: -12.46208178190844\n",
            "Episode 385, Total Reward: -11.486010858396524\n",
            "Episode 390, Total Reward: 5.271996120229439\n",
            "Episode 395, Total Reward: 5.393671056588811\n",
            "Episode 400, Total Reward: -0.03462772876379194\n",
            "Episode 405, Total Reward: -1.6484290099231973\n",
            "Episode 410, Total Reward: -1.2734470412655052\n",
            "Episode 415, Total Reward: 12.432742449010384\n",
            "Episode 420, Total Reward: 1.197308404668347\n",
            "Episode 425, Total Reward: 3.7657537843424214\n",
            "Episode 430, Total Reward: -0.7318894477258141\n",
            "Episode 435, Total Reward: -6.137382800290851\n",
            "Episode 440, Total Reward: -0.4644311932636493\n",
            "Episode 445, Total Reward: -5.729373003027333\n",
            "Episode 450, Total Reward: -0.34827543774282926\n",
            "Episode 455, Total Reward: -1.2598974814628694\n",
            "Episode 460, Total Reward: 0.17266761235799355\n",
            "Episode 465, Total Reward: -1.2432841879325167\n",
            "Episode 470, Total Reward: 2.131824282485865\n",
            "Episode 475, Total Reward: -1.2252902251876547\n",
            "Episode 480, Total Reward: -1.466526480273855\n",
            "Episode 485, Total Reward: 6.487408451021523\n",
            "Episode 490, Total Reward: -5.348307031447767\n",
            "Episode 495, Total Reward: 0.42800140209972026\n"
          ]
        }
      ]
    },
    {
      "cell_type": "code",
      "source": [
        "# 평가\n",
        "average_reward = np.mean(episode_rewards)\n",
        "print(f\"\\nAverage Reward per Episode: {average_reward}\")"
      ],
      "metadata": {
        "colab": {
          "base_uri": "https://localhost:8080/"
        },
        "id": "p-kOpFlahne1",
        "outputId": "98bcc6e1-dc87-4a81-eadc-cc57a03041c7"
      },
      "execution_count": 15,
      "outputs": [
        {
          "output_type": "stream",
          "name": "stdout",
          "text": [
            "\n",
            "Average Reward per Episode: -0.20504993269299385\n"
          ]
        }
      ]
    },
    {
      "cell_type": "code",
      "source": [
        "# 학습된 Q-값 또는 정책 시각화\n",
        "plt.imshow(Q_table, cmap='hot', interpolation='nearest')\n",
        "plt.colorbar()\n",
        "plt.title('Learned Q-values (Policy)')\n",
        "plt.show()"
      ],
      "metadata": {
        "colab": {
          "base_uri": "https://localhost:8080/",
          "height": 452
        },
        "id": "RKUB52XShqxt",
        "outputId": "5e22ca76-0d1f-4c45-c46f-251359e552a7"
      },
      "execution_count": 19,
      "outputs": [
        {
          "output_type": "display_data",
          "data": {
            "text/plain": [
              "<Figure size 640x480 with 2 Axes>"
            ],
            "image/png": "[encoded data removed]"
          },
          "metadata": {}
        }
      ]
    },
    {
      "cell_type": "code",
      "source": [
        "# 학습된 Q-값 출력\n",
        "print(\"Learned Q-values:\\n\", Q_table)"
      ],
      "metadata": {
        "colab": {
          "base_uri": "https://localhost:8080/"
        },
        "id": "DxhSrayCm3Nf",
        "outputId": "827c5ca0-9fb8-4b64-9f2a-f2f6aad0863a"
      },
      "execution_count": 20,
      "outputs": [
        {
          "output_type": "stream",
          "name": "stdout",
          "text": [
            "Learned Q-values:\n",
            " [[ 0.09801671 -0.41396899]\n",
            " [-0.12772629 -0.65526761]\n",
            " [-0.40180469 -0.41251564]\n",
            " [-0.32463811 -0.44612302]\n",
            " [-0.59260752 -0.39442681]\n",
            " [-0.53852529 -0.13296503]]\n"
          ]
        }
      ]
    }
  ]
}