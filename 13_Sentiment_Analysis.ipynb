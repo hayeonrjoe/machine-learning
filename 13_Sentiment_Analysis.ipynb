{
  "nbformat": 4,
  "nbformat_minor": 0,
  "metadata": {
    "colab": {
      "provenance": []
    },
    "kernelspec": {
      "name": "python3",
      "display_name": "Python 3"
    },
    "language_info": {
      "name": "python"
    },
    "accelerator": "TPU"
  },
  "cells": [
    {
      "cell_type": "code",
      "execution_count": null,
      "metadata": {
        "id": "RIhaTuhIS08S"
      },
      "outputs": [],
      "source": [
        "# Google Colab에서 Kaggle API를 사용하기 위한 라이브러리 설치\n",
        "!pip install kaggle\n",
        "\n",
        "# Kaggle API 토큰 업로드\n",
        "from google.colab import files\n",
        "files.upload()"
      ]
    },
    {
      "cell_type": "code",
      "source": [
        "# Kaggle API 토큰을 사용자 디렉토리로 복사하고 권한 설정\n",
        "!mkdir -p ~/.kaggle\n",
        "!cp kaggle.json ~/.kaggle/\n",
        "!chmod 600 ~/.kaggle/kaggle.json"
      ],
      "metadata": {
        "id": "--pSsCjUakK9"
      },
      "execution_count": null,
      "outputs": []
    },
    {
      "cell_type": "code",
      "source": [
        "# Kaggle에서 데이터셋 다운로드\n",
        "!kaggle datasets download -d kaggleprollc/healthcare-patient-satisfaction-data-collection"
      ],
      "metadata": {
        "colab": {
          "base_uri": "https://localhost:8080/"
        },
        "id": "lt9JACslanvf",
        "outputId": "08639f19-9e3c-4ae5-8ed0-d9b745a0575a"
      },
      "execution_count": null,
      "outputs": [
        {
          "output_type": "stream",
          "name": "stdout",
          "text": [
            "healthcare-patient-satisfaction-data-collection.zip: Skipping, found more recently modified local copy (use --force to force download)\n"
          ]
        }
      ]
    },
    {
      "cell_type": "code",
      "source": [
        "# 다운로드한 데이터셋 압축 해제\n",
        "!unzip healthcare-patient-satisfaction-data-collection.zip"
      ],
      "metadata": {
        "colab": {
          "base_uri": "https://localhost:8080/"
        },
        "id": "djdQdpdTap1L",
        "outputId": "4c11f359-2cb6-45d3-c075-01ad96559519"
      },
      "execution_count": null,
      "outputs": [
        {
          "output_type": "stream",
          "name": "stdout",
          "text": [
            "Archive:  healthcare-patient-satisfaction-data-collection.zip\n",
            "replace patient_satisfaction/cms_hospital_patient_satisfaction_2016.csv? [y]es, [n]o, [A]ll, [N]one, [r]ename: "
          ]
        }
      ]
    },
    {
      "cell_type": "code",
      "source": [
        "# 필요한 라이브러리 및 패키지 불러오기\n",
        "!pip install transformers torch"
      ],
      "metadata": {
        "colab": {
          "base_uri": "https://localhost:8080/"
        },
        "id": "lz-I6UXZc0Wg",
        "outputId": "5e399184-6ec0-45fc-995a-040e0c9c6520"
      },
      "execution_count": null,
      "outputs": [
        {
          "output_type": "stream",
          "name": "stdout",
          "text": [
            "Requirement already satisfied: transformers in /usr/local/lib/python3.10/dist-packages (4.37.2)\n",
            "Requirement already satisfied: torch in /usr/local/lib/python3.10/dist-packages (2.1.0+cu121)\n",
            "Requirement already satisfied: filelock in /usr/local/lib/python3.10/dist-packages (from transformers) (3.13.1)\n",
            "Requirement already satisfied: huggingface-hub<1.0,>=0.19.3 in /usr/local/lib/python3.10/dist-packages (from transformers) (0.20.3)\n",
            "Requirement already satisfied: numpy>=1.17 in /usr/local/lib/python3.10/dist-packages (from transformers) (1.23.5)\n",
            "Requirement already satisfied: packaging>=20.0 in /usr/local/lib/python3.10/dist-packages (from transformers) (23.2)\n",
            "Requirement already satisfied: pyyaml>=5.1 in /usr/local/lib/python3.10/dist-packages (from transformers) (6.0.1)\n",
            "Requirement already satisfied: regex!=2019.12.17 in /usr/local/lib/python3.10/dist-packages (from transformers) (2023.12.25)\n",
            "Requirement already satisfied: requests in /usr/local/lib/python3.10/dist-packages (from transformers) (2.31.0)\n",
            "Requirement already satisfied: tokenizers<0.19,>=0.14 in /usr/local/lib/python3.10/dist-packages (from transformers) (0.15.2)\n",
            "Requirement already satisfied: safetensors>=0.4.1 in /usr/local/lib/python3.10/dist-packages (from transformers) (0.4.2)\n",
            "Requirement already satisfied: tqdm>=4.27 in /usr/local/lib/python3.10/dist-packages (from transformers) (4.66.2)\n",
            "Requirement already satisfied: typing-extensions in /usr/local/lib/python3.10/dist-packages (from torch) (4.9.0)\n",
            "Requirement already satisfied: sympy in /usr/local/lib/python3.10/dist-packages (from torch) (1.12)\n",
            "Requirement already satisfied: networkx in /usr/local/lib/python3.10/dist-packages (from torch) (3.2.1)\n",
            "Requirement already satisfied: jinja2 in /usr/local/lib/python3.10/dist-packages (from torch) (3.1.3)\n",
            "Requirement already satisfied: fsspec in /usr/local/lib/python3.10/dist-packages (from torch) (2023.6.0)\n",
            "Requirement already satisfied: triton==2.1.0 in /usr/local/lib/python3.10/dist-packages (from torch) (2.1.0)\n",
            "Requirement already satisfied: MarkupSafe>=2.0 in /usr/local/lib/python3.10/dist-packages (from jinja2->torch) (2.1.5)\n",
            "Requirement already satisfied: charset-normalizer<4,>=2 in /usr/local/lib/python3.10/dist-packages (from requests->transformers) (3.3.2)\n",
            "Requirement already satisfied: idna<4,>=2.5 in /usr/local/lib/python3.10/dist-packages (from requests->transformers) (3.6)\n",
            "Requirement already satisfied: urllib3<3,>=1.21.1 in /usr/local/lib/python3.10/dist-packages (from requests->transformers) (2.0.7)\n",
            "Requirement already satisfied: certifi>=2017.4.17 in /usr/local/lib/python3.10/dist-packages (from requests->transformers) (2024.2.2)\n",
            "Requirement already satisfied: mpmath>=0.19 in /usr/local/lib/python3.10/dist-packages (from sympy->torch) (1.3.0)\n"
          ]
        }
      ]
    },
    {
      "cell_type": "code",
      "source": [
        "from transformers import BertTokenizer, BertForSequenceClassification\n",
        "import torch\n",
        "import pandas as pd\n",
        "from sklearn.model_selection import train_test_split\n",
        "from sklearn.metrics import accuracy_score, precision_score, recall_score, f1_score, roc_auc_score, confusion_matrix, roc_curve\n",
        "import matplotlib.pyplot as plt\n",
        "import seaborn as sns\n",
        "\n",
        "# 데이터셋 불러오기\n",
        "df = pd.read_csv('patient_satisfaction/cms_hospital_patient_satisfaction_2020.csv', low_memory=False)"
      ],
      "metadata": {
        "id": "9W0-raeZare-"
      },
      "execution_count": null,
      "outputs": []
    },
    {
      "cell_type": "code",
      "source": [
        "# 긴 텍스트 필터링\n",
        "max_text_length = 512\n",
        "filtered_df = df[df['HCAHPS Answer Description'].apply(len) <= max_text_length]\n",
        "\n",
        "# 필터링된 데이터셋에서 임의로 500개 선택\n",
        "random_sample = filtered_df['HCAHPS Answer Description'].sample(n=500, random_state=42)\n",
        "texts = random_sample.tolist()"
      ],
      "metadata": {
        "id": "dUP6eO4say5x"
      },
      "execution_count": null,
      "outputs": []
    },
    {
      "cell_type": "code",
      "source": [
        "# 감정 클래스 분류\n",
        "def classify_sentiment(sentiment):\n",
        "    sentiment = sentiment.lower()\n",
        "\n",
        "    if any(keyword in sentiment for keyword in [\"always\", \"usually\", \"yes\", \"high\", \"strongly agree\", \"agree\"]):\n",
        "        return 1  # Positive\n",
        "    elif any(keyword in sentiment for keyword in [\"sometimes\", \"never\", \"no\", \"low\", \"strongly disagree\", \"disagree\"]):\n",
        "        return 0  # Negative\n",
        "    else:\n",
        "        return -1  # Undefined"
      ],
      "metadata": {
        "id": "Wv2_VQv4c_Ff"
      },
      "execution_count": null,
      "outputs": []
    },
    {
      "cell_type": "code",
      "source": [
        "# 감정 분류를 적용하고 Undefined 값 제외\n",
        "labeled_data = [(text, classify_sentiment(text)) for text in texts]\n",
        "filtered_data = [(text, label) for text, label in labeled_data if label != -1]\n",
        "\n",
        "# 필터링된 데이터를 풀어서 사용\n",
        "filtered_texts, filtered_labels = zip(*filtered_data)"
      ],
      "metadata": {
        "id": "lPX61ECKek0m"
      },
      "execution_count": null,
      "outputs": []
    },
    {
      "cell_type": "code",
      "source": [
        "# 데이터를 훈련 및 테스트 세트로 분할\n",
        "texts_train, texts_test, labels_train, labels_test = train_test_split(filtered_texts, filtered_labels, test_size=0.2, random_state=42)"
      ],
      "metadata": {
        "id": "AviZnBH5dJ3V"
      },
      "execution_count": null,
      "outputs": []
    },
    {
      "cell_type": "code",
      "source": [
        "# 토크나이저 및 모델 로드\n",
        "tokenizer = BertTokenizer.from_pretrained('bert-base-uncased')\n",
        "model = BertForSequenceClassification.from_pretrained('bert-base-uncased')"
      ],
      "metadata": {
        "colab": {
          "base_uri": "https://localhost:8080/"
        },
        "id": "Nf_s-K_Ka5nx",
        "outputId": "858c96f7-98d6-46a3-dd39-39b1f993a661"
      },
      "execution_count": null,
      "outputs": [
        {
          "output_type": "stream",
          "name": "stderr",
          "text": [
            "/usr/local/lib/python3.10/dist-packages/huggingface_hub/utils/_token.py:88: UserWarning: \n",
            "The secret `HF_TOKEN` does not exist in your Colab secrets.\n",
            "To authenticate with the Hugging Face Hub, create a token in your settings tab (https://huggingface.co/settings/tokens), set it as secret in your Google Colab and restart your session.\n",
            "You will be able to reuse this secret in all of your notebooks.\n",
            "Please note that authentication is recommended but still optional to access public models or datasets.\n",
            "  warnings.warn(\n",
            "Some weights of BertForSequenceClassification were not initialized from the model checkpoint at bert-base-uncased and are newly initialized: ['classifier.bias', 'classifier.weight']\n",
            "You should probably TRAIN this model on a down-stream task to be able to use it for predictions and inference.\n"
          ]
        }
      ]
    },
    {
      "cell_type": "code",
      "source": [
        "# 훈련 및 테스트 세트에 대한 텍스트 데이터 토큰화\n",
        "tokenized_texts_train = tokenizer(texts_train, padding=True, truncation=True, return_tensors=\"pt\")\n",
        "tokenized_texts_test = tokenizer(texts_test, padding=True, truncation=True, return_tensors=\"pt\")"
      ],
      "metadata": {
        "id": "tnuTicJze5VV"
      },
      "execution_count": null,
      "outputs": []
    },
    {
      "cell_type": "code",
      "source": [
        "# 트랜스포머 모델을 사용하여 훈련 세트에 대한 감성 분석 수행\n",
        "outputs_train = model(**tokenized_texts_train, labels=torch.tensor(labels_train).unsqueeze(0))\n",
        "outputs_test = model(**tokenized_texts_test, labels=torch.tensor(labels_test).unsqueeze(0))"
      ],
      "metadata": {
        "id": "KZrbXEXffG2_"
      },
      "execution_count": null,
      "outputs": []
    },
    {
      "cell_type": "code",
      "source": [
        "# 훈련 및 테스트 세트에 대한 감성 레이블 예측\n",
        "predicted_train = torch.argmax(outputs_train.logits, dim=1).tolist()\n",
        "predicted_test = torch.argmax(outputs_test.logits, dim=1).tolist()"
      ],
      "metadata": {
        "id": "OwmFTos5fJmQ"
      },
      "execution_count": null,
      "outputs": []
    },
    {
      "cell_type": "code",
      "source": [
        "# 평가 메트릭\n",
        "accuracy = accuracy_score(labels_test, predicted_test)\n",
        "precision = precision_score(labels_test, predicted_test, average='weighted')\n",
        "recall = recall_score(labels_test, predicted_test, average='weighted')\n",
        "f1 = f1_score(labels_test, predicted_test, average='weighted')"
      ],
      "metadata": {
        "colab": {
          "base_uri": "https://localhost:8080/"
        },
        "id": "3_uUwtszfM9V",
        "outputId": "ef571df8-40da-4da1-b09f-f8119b9ece28"
      },
      "execution_count": null,
      "outputs": [
        {
          "output_type": "stream",
          "name": "stderr",
          "text": [
            "/usr/local/lib/python3.10/dist-packages/sklearn/metrics/_classification.py:1344: UndefinedMetricWarning: Precision is ill-defined and being set to 0.0 in labels with no predicted samples. Use `zero_division` parameter to control this behavior.\n",
            "  _warn_prf(average, modifier, msg_start, len(result))\n"
          ]
        }
      ]
    },
    {
      "cell_type": "code",
      "source": [
        "# 평가 메트릭 출력\n",
        "print(f\"Accuracy: {accuracy:.4f}\")\n",
        "print(f\"Precision: {precision:.4f}\")\n",
        "print(f\"Recall: {recall:.4f}\")\n",
        "print(f\"F1 Score: {f1:.4f}\")"
      ],
      "metadata": {
        "colab": {
          "base_uri": "https://localhost:8080/"
        },
        "id": "bjTuVZ-cfO2L",
        "outputId": "93d0f086-2278-4e1c-c62f-ee646d0f86d1"
      },
      "execution_count": null,
      "outputs": [
        {
          "output_type": "stream",
          "name": "stdout",
          "text": [
            "Accuracy: 0.6711\n",
            "Precision: 0.4503\n",
            "Recall: 0.6711\n",
            "F1 Score: 0.5390\n"
          ]
        }
      ]
    },
    {
      "cell_type": "code",
      "source": [
        "# 혼동 행렬\n",
        "cm = confusion_matrix(labels_test, predicted_test)\n",
        "plt.figure(figsize=(6, 6))\n",
        "sns.heatmap(cm, annot=True, fmt='g', cmap='Blues', xticklabels=['Negative', 'Positive'], yticklabels=['Negative', 'Positive'])\n",
        "plt.xlabel('Predicted')\n",
        "plt.ylabel('True')\n",
        "plt.title('Confusion Matrix')\n",
        "plt.show()"
      ],
      "metadata": {
        "colab": {
          "base_uri": "https://localhost:8080/",
          "height": 564
        },
        "id": "66VOzOuYfQrj",
        "outputId": "b213b2ab-f470-4da8-a1e1-c8da80155354"
      },
      "execution_count": null,
      "outputs": [
        {
          "output_type": "display_data",
          "data": {
            "text/plain": [
              "<Figure size 600x600 with 2 Axes>"
            ],
            "image/png": "[encoded data removed]"
          },
          "metadata": {}
        }
      ]
    },
    {
      "cell_type": "code",
      "source": [
        "print(\"Confusion Matrix:\")\n",
        "print(cm)"
      ],
      "metadata": {
        "colab": {
          "base_uri": "https://localhost:8080/"
        },
        "id": "IX22z7KLfS7o",
        "outputId": "31b05aec-11c6-4657-90b5-a290ef99e9d9"
      },
      "execution_count": null,
      "outputs": [
        {
          "output_type": "stream",
          "name": "stdout",
          "text": [
            "Confusion Matrix:\n",
            "[[ 0 25]\n",
            " [ 0 51]]\n"
          ]
        }
      ]
    }
  ]
}