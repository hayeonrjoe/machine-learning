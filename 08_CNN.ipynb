{
  "cells": [
    {
      "cell_type": "code",
      "source": [
        "# 필요한 라이브러리 설치\n",
        "!pip install -q imageio\n",
        "!pip install -q opencv-python\n",
        "!pip install -q git+https://github.com/tensorflow/docs"
      ],
      "metadata": {
        "id": "UVe0M-HQyFrW",
        "colab": {
          "base_uri": "https://localhost:8080/"
        },
        "outputId": "afcda130-d47e-4c88-d760-1045162a4eed"
      },
      "execution_count": 1,
      "outputs": [
        {
          "output_type": "stream",
          "name": "stdout",
          "text": [
            "  Preparing metadata (setup.py) ... \u001b[?25l\u001b[?25hdone\n",
            "  Building wheel for tensorflow-docs (setup.py) ... \u001b[?25l\u001b[?25hdone\n"
          ]
        }
      ]
    },
    {
      "cell_type": "code",
      "source": [
        "# TensorFlow 및 TF-Hub 모듈 불러오기\n",
        "from absl import logging\n",
        "import tensorflow as tf\n",
        "import tensorflow_hub as hub\n",
        "from tensorflow_docs.vis import embed\n",
        "logging.set_verbosity(logging.ERROR)\n",
        "\n",
        "# UCF101 데이터셋을 처리하기 위한 몇 가지 도우미 모듈\n",
        "import random\n",
        "import re\n",
        "import os\n",
        "import tempfile\n",
        "import ssl\n",
        "import cv2\n",
        "import numpy as np\n",
        "\n",
        "# 애니메이션을 표시하기 위한 이미지 입출력 관련 모듈\n",
        "import imageio\n",
        "from IPython import display\n",
        "\n",
        "from urllib import request  # Python 3가 필요함"
      ],
      "metadata": {
        "id": "eONboYL_rYv2"
      },
      "execution_count": 2,
      "outputs": []
    },
    {
      "cell_type": "code",
      "source": [
        "# UCF101 데이터셋에서 비디오 가져오기를 위한 유틸리티 함수들\n",
        "UCF_ROOT = \"https://www.crcv.ucf.edu/THUMOS14/UCF101/UCF101/\"\n",
        "_VIDEO_LIST = None\n",
        "_CACHE_DIR = tempfile.mkdtemp()\n",
        "unverified_context = ssl._create_unverified_context()\n",
        "\n",
        "def list_ucf_videos():\n",
        "  \"\"\"UCF101 데이터셋에 있는 비디오 목록 가져오기.\"\"\"\n",
        "  global _VIDEO_LIST\n",
        "  if not _VIDEO_LIST:\n",
        "    index = request.urlopen(UCF_ROOT, context=unverified_context).read().decode(\"utf-8\")\n",
        "    videos = re.findall(\"(v_[\\w_]+\\.avi)\", index)\n",
        "    _VIDEO_LIST = sorted(set(videos))\n",
        "  return list(_VIDEO_LIST)\n",
        "\n",
        "def fetch_ufc_video(video):\n",
        "  \"\"\"비디오를 가져와 로컬 파일 시스템에 캐시.\"\"\"\n",
        "  cache_path = os.path.join(_CACHE_DIR, video)\n",
        "  if not os.path.exists(cache_path):\n",
        "    urlpath = request.urljoin(UCF_ROOT, video)\n",
        "    print(\"Fetching %s => %s\" % (urlpath, cache_path))\n",
        "    data = request.urlopen(urlpath, context=unverified_context).read()\n",
        "    open(cache_path, \"wb\").write(data)\n",
        "  return cache_path\n",
        "\n",
        "# CV2를 사용하여 비디오 파일 열기 위한 유틸리티 함수들\n",
        "def crop_center_square(frame):\n",
        "  y, x = frame.shape[0:2]\n",
        "  min_dim = min(y, x)\n",
        "  start_x = (x // 2) - (min_dim // 2)\n",
        "  start_y = (y // 2) - (min_dim // 2)\n",
        "  return frame[start_y:start_y+min_dim,start_x:start_x+min_dim]\n",
        "\n",
        "def load_video(path, max_frames=0, resize=(224, 224)):\n",
        "  cap = cv2.VideoCapture(path)\n",
        "  frames = []\n",
        "  try:\n",
        "    while True:\n",
        "      ret, frame = cap.read()\n",
        "      if not ret:\n",
        "        break\n",
        "      frame = crop_center_square(frame)\n",
        "      frame = cv2.resize(frame, resize)\n",
        "      frame = frame[:, :, [2, 1, 0]]\n",
        "      frames.append(frame)\n",
        "\n",
        "      if len(frames) == max_frames:\n",
        "        break\n",
        "  finally:\n",
        "    cap.release()\n",
        "  return np.array(frames) / 255.0\n",
        "\n",
        "def to_gif(images):\n",
        "  converted_images = np.clip(images * 255, 0, 255).astype(np.uint8)\n",
        "  imageio.mimsave('./animation.gif', converted_images, fps=25)\n",
        "  return embed.embed_file('./animation.gif')"
      ],
      "metadata": {
        "id": "-EgPXNzYySFs"
      },
      "execution_count": 3,
      "outputs": []
    },
    {
      "cell_type": "code",
      "source": [
        "# Kinetics-400 동작 레이블을 GitHub 리포지토리에서 가져오기\n",
        "KINETICS_URL = \"https://raw.githubusercontent.com/deepmind/kinetics-i3d/master/data/label_map.txt\"\n",
        "with request.urlopen(KINETICS_URL) as obj:\n",
        "  labels = [line.decode(\"utf-8\").strip() for line in obj.readlines()]\n",
        "print(\"Found %d labels.\" % len(labels))"
      ],
      "metadata": {
        "colab": {
          "base_uri": "https://localhost:8080/"
        },
        "id": "sQKPfOjjvwXQ",
        "outputId": "afd4dc19-edad-47b2-d791-d4cd2abf7fe4"
      },
      "execution_count": 9,
      "outputs": [
        {
          "output_type": "stream",
          "name": "stdout",
          "text": [
            "Found 400 labels.\n"
          ]
        }
      ]
    },
    {
      "cell_type": "code",
      "source": [
        "# UCF101 데이터셋에서 비디오 목록 가져오기\n",
        "ucf_videos = list_ucf_videos()\n",
        "\n",
        "# 카테고리별로 비디오 그룹화\n",
        "categories = {}\n",
        "for video in ucf_videos:\n",
        "  category = video[2:-12]\n",
        "  if category not in categories:\n",
        "    categories[category] = []\n",
        "  categories[category].append(video)\n",
        "print(\"Found %d videos in %d categories.\" % (len(ucf_videos), len(categories)))\n",
        "\n",
        "# 각 카테고리에서 일부 비디오 출력\n",
        "for category, sequences in categories.items():\n",
        "  summary = \", \".join(sequences[:2])\n",
        "  print(\"%-20s %4d videos (%s, ...)\" % (category, len(sequences), summary))"
      ],
      "metadata": {
        "id": "XHxZSBbSyWwM",
        "colab": {
          "base_uri": "https://localhost:8080/"
        },
        "outputId": "815242c0-7f1b-4e20-eff5-3eada46d5207"
      },
      "execution_count": 4,
      "outputs": [
        {
          "output_type": "stream",
          "name": "stdout",
          "text": [
            "Found 13320 videos in 101 categories.\n",
            "ApplyEyeMakeup        145 videos (v_ApplyEyeMakeup_g01_c01.avi, v_ApplyEyeMakeup_g01_c02.avi, ...)\n",
            "ApplyLipstick         114 videos (v_ApplyLipstick_g01_c01.avi, v_ApplyLipstick_g01_c02.avi, ...)\n",
            "Archery               145 videos (v_Archery_g01_c01.avi, v_Archery_g01_c02.avi, ...)\n",
            "BabyCrawling          132 videos (v_BabyCrawling_g01_c01.avi, v_BabyCrawling_g01_c02.avi, ...)\n",
            "BalanceBeam           108 videos (v_BalanceBeam_g01_c01.avi, v_BalanceBeam_g01_c02.avi, ...)\n",
            "BandMarching          155 videos (v_BandMarching_g01_c01.avi, v_BandMarching_g01_c02.avi, ...)\n",
            "BaseballPitch         150 videos (v_BaseballPitch_g01_c01.avi, v_BaseballPitch_g01_c02.avi, ...)\n",
            "BasketballDunk        131 videos (v_BasketballDunk_g01_c01.avi, v_BasketballDunk_g01_c02.avi, ...)\n",
            "Basketball            134 videos (v_Basketball_g01_c01.avi, v_Basketball_g01_c02.avi, ...)\n",
            "BenchPress            160 videos (v_BenchPress_g01_c01.avi, v_BenchPress_g01_c02.avi, ...)\n",
            "Biking                134 videos (v_Biking_g01_c01.avi, v_Biking_g01_c02.avi, ...)\n",
            "Billiards             150 videos (v_Billiards_g01_c01.avi, v_Billiards_g01_c02.avi, ...)\n",
            "BlowDryHair           131 videos (v_BlowDryHair_g01_c01.avi, v_BlowDryHair_g01_c02.avi, ...)\n",
            "BlowingCandles        109 videos (v_BlowingCandles_g01_c01.avi, v_BlowingCandles_g01_c02.avi, ...)\n",
            "BodyWeightSquats      112 videos (v_BodyWeightSquats_g01_c01.avi, v_BodyWeightSquats_g01_c02.avi, ...)\n",
            "Bowling               155 videos (v_Bowling_g01_c01.avi, v_Bowling_g01_c02.avi, ...)\n",
            "BoxingPunchingBag     163 videos (v_BoxingPunchingBag_g01_c01.avi, v_BoxingPunchingBag_g01_c02.avi, ...)\n",
            "BoxingSpeedBag        134 videos (v_BoxingSpeedBag_g01_c01.avi, v_BoxingSpeedBag_g01_c02.avi, ...)\n",
            "BreastStroke          101 videos (v_BreastStroke_g01_c01.avi, v_BreastStroke_g01_c02.avi, ...)\n",
            "BrushingTeeth         131 videos (v_BrushingTeeth_g01_c01.avi, v_BrushingTeeth_g01_c02.avi, ...)\n",
            "CleanAndJerk          112 videos (v_CleanAndJerk_g01_c01.avi, v_CleanAndJerk_g01_c02.avi, ...)\n",
            "CliffDiving           138 videos (v_CliffDiving_g01_c01.avi, v_CliffDiving_g01_c02.avi, ...)\n",
            "CricketBowling        139 videos (v_CricketBowling_g01_c01.avi, v_CricketBowling_g01_c02.avi, ...)\n",
            "CricketShot           167 videos (v_CricketShot_g01_c01.avi, v_CricketShot_g01_c02.avi, ...)\n",
            "CuttingInKitchen      110 videos (v_CuttingInKitchen_g01_c01.avi, v_CuttingInKitchen_g01_c02.avi, ...)\n",
            "Diving                150 videos (v_Diving_g01_c01.avi, v_Diving_g01_c02.avi, ...)\n",
            "Drumming              161 videos (v_Drumming_g01_c01.avi, v_Drumming_g01_c02.avi, ...)\n",
            "Fencing               111 videos (v_Fencing_g01_c01.avi, v_Fencing_g01_c02.avi, ...)\n",
            "FieldHockeyPenalty    126 videos (v_FieldHockeyPenalty_g01_c01.avi, v_FieldHockeyPenalty_g01_c02.avi, ...)\n",
            "FloorGymnastics       125 videos (v_FloorGymnastics_g01_c01.avi, v_FloorGymnastics_g01_c02.avi, ...)\n",
            "FrisbeeCatch          126 videos (v_FrisbeeCatch_g01_c01.avi, v_FrisbeeCatch_g01_c02.avi, ...)\n",
            "FrontCrawl            137 videos (v_FrontCrawl_g01_c01.avi, v_FrontCrawl_g01_c02.avi, ...)\n",
            "GolfSwing             139 videos (v_GolfSwing_g01_c01.avi, v_GolfSwing_g01_c02.avi, ...)\n",
            "Haircut               130 videos (v_Haircut_g01_c01.avi, v_Haircut_g01_c02.avi, ...)\n",
            "HammerThrow           150 videos (v_HammerThrow_g01_c01.avi, v_HammerThrow_g01_c02.avi, ...)\n",
            "Hammering             140 videos (v_Hammering_g01_c01.avi, v_Hammering_g01_c02.avi, ...)\n",
            "HandstandPushups      128 videos (v_HandstandPushups_g01_c01.avi, v_HandstandPushups_g01_c02.avi, ...)\n",
            "HandstandWalking      111 videos (v_HandstandWalking_g01_c01.avi, v_HandstandWalking_g01_c02.avi, ...)\n",
            "HeadMassage           147 videos (v_HeadMassage_g01_c01.avi, v_HeadMassage_g01_c02.avi, ...)\n",
            "HighJump              123 videos (v_HighJump_g01_c01.avi, v_HighJump_g01_c02.avi, ...)\n",
            "HorseRace             124 videos (v_HorseRace_g01_c01.avi, v_HorseRace_g01_c02.avi, ...)\n",
            "HorseRiding           164 videos (v_HorseRiding_g01_c01.avi, v_HorseRiding_g01_c02.avi, ...)\n",
            "HulaHoop              125 videos (v_HulaHoop_g01_c01.avi, v_HulaHoop_g01_c02.avi, ...)\n",
            "IceDancing            158 videos (v_IceDancing_g01_c01.avi, v_IceDancing_g01_c02.avi, ...)\n",
            "JavelinThrow          117 videos (v_JavelinThrow_g01_c01.avi, v_JavelinThrow_g01_c02.avi, ...)\n",
            "JugglingBalls         121 videos (v_JugglingBalls_g01_c01.avi, v_JugglingBalls_g01_c02.avi, ...)\n",
            "JumpRope              144 videos (v_JumpRope_g01_c01.avi, v_JumpRope_g01_c02.avi, ...)\n",
            "JumpingJack           123 videos (v_JumpingJack_g01_c01.avi, v_JumpingJack_g01_c02.avi, ...)\n",
            "Kayaking              141 videos (v_Kayaking_g01_c01.avi, v_Kayaking_g01_c02.avi, ...)\n",
            "Knitting              123 videos (v_Knitting_g01_c01.avi, v_Knitting_g01_c02.avi, ...)\n",
            "LongJump              131 videos (v_LongJump_g01_c01.avi, v_LongJump_g01_c02.avi, ...)\n",
            "Lunges                127 videos (v_Lunges_g01_c01.avi, v_Lunges_g01_c02.avi, ...)\n",
            "MilitaryParade        125 videos (v_MilitaryParade_g01_c01.avi, v_MilitaryParade_g01_c02.avi, ...)\n",
            "Mixing                136 videos (v_Mixing_g01_c01.avi, v_Mixing_g01_c02.avi, ...)\n",
            "MoppingFloor          110 videos (v_MoppingFloor_g01_c01.avi, v_MoppingFloor_g01_c02.avi, ...)\n",
            "Nunchucks             132 videos (v_Nunchucks_g01_c01.avi, v_Nunchucks_g01_c02.avi, ...)\n",
            "ParallelBars          114 videos (v_ParallelBars_g01_c01.avi, v_ParallelBars_g01_c02.avi, ...)\n",
            "PizzaTossing          113 videos (v_PizzaTossing_g01_c01.avi, v_PizzaTossing_g01_c02.avi, ...)\n",
            "PlayingCello          164 videos (v_PlayingCello_g01_c01.avi, v_PlayingCello_g01_c02.avi, ...)\n",
            "PlayingDaf            151 videos (v_PlayingDaf_g01_c01.avi, v_PlayingDaf_g01_c02.avi, ...)\n",
            "PlayingDhol           164 videos (v_PlayingDhol_g01_c01.avi, v_PlayingDhol_g01_c02.avi, ...)\n",
            "PlayingFlute          155 videos (v_PlayingFlute_g01_c01.avi, v_PlayingFlute_g01_c02.avi, ...)\n",
            "PlayingGuitar         160 videos (v_PlayingGuitar_g01_c01.avi, v_PlayingGuitar_g01_c02.avi, ...)\n",
            "PlayingPiano          105 videos (v_PlayingPiano_g01_c01.avi, v_PlayingPiano_g01_c02.avi, ...)\n",
            "PlayingSitar          157 videos (v_PlayingSitar_g01_c01.avi, v_PlayingSitar_g01_c02.avi, ...)\n",
            "PlayingTabla          111 videos (v_PlayingTabla_g01_c01.avi, v_PlayingTabla_g01_c02.avi, ...)\n",
            "PlayingViolin         100 videos (v_PlayingViolin_g01_c01.avi, v_PlayingViolin_g01_c02.avi, ...)\n",
            "PoleVault             149 videos (v_PoleVault_g01_c01.avi, v_PoleVault_g01_c02.avi, ...)\n",
            "PommelHorse           123 videos (v_PommelHorse_g01_c01.avi, v_PommelHorse_g01_c02.avi, ...)\n",
            "PullUps               100 videos (v_PullUps_g01_c01.avi, v_PullUps_g01_c02.avi, ...)\n",
            "Punch                 160 videos (v_Punch_g01_c01.avi, v_Punch_g01_c02.avi, ...)\n",
            "PushUps               102 videos (v_PushUps_g01_c01.avi, v_PushUps_g01_c02.avi, ...)\n",
            "Rafting               111 videos (v_Rafting_g01_c01.avi, v_Rafting_g01_c02.avi, ...)\n",
            "RockClimbingIndoor    144 videos (v_RockClimbingIndoor_g01_c01.avi, v_RockClimbingIndoor_g01_c02.avi, ...)\n",
            "RopeClimbing          119 videos (v_RopeClimbing_g01_c01.avi, v_RopeClimbing_g01_c02.avi, ...)\n",
            "Rowing                137 videos (v_Rowing_g01_c01.avi, v_Rowing_g01_c02.avi, ...)\n",
            "SalsaSpin             133 videos (v_SalsaSpin_g01_c01.avi, v_SalsaSpin_g01_c02.avi, ...)\n",
            "ShavingBeard          161 videos (v_ShavingBeard_g01_c01.avi, v_ShavingBeard_g01_c02.avi, ...)\n",
            "Shotput               144 videos (v_Shotput_g01_c01.avi, v_Shotput_g01_c02.avi, ...)\n",
            "SkateBoarding         120 videos (v_SkateBoarding_g01_c01.avi, v_SkateBoarding_g01_c02.avi, ...)\n",
            "Skiing                135 videos (v_Skiing_g01_c01.avi, v_Skiing_g01_c02.avi, ...)\n",
            "Skijet                100 videos (v_Skijet_g01_c01.avi, v_Skijet_g01_c02.avi, ...)\n",
            "SkyDiving             110 videos (v_SkyDiving_g01_c01.avi, v_SkyDiving_g01_c02.avi, ...)\n",
            "SoccerJuggling        147 videos (v_SoccerJuggling_g01_c01.avi, v_SoccerJuggling_g01_c02.avi, ...)\n",
            "SoccerPenalty         137 videos (v_SoccerPenalty_g01_c01.avi, v_SoccerPenalty_g01_c02.avi, ...)\n",
            "StillRings            112 videos (v_StillRings_g01_c01.avi, v_StillRings_g01_c02.avi, ...)\n",
            "SumoWrestling         116 videos (v_SumoWrestling_g01_c01.avi, v_SumoWrestling_g01_c02.avi, ...)\n",
            "Surfing               126 videos (v_Surfing_g01_c01.avi, v_Surfing_g01_c02.avi, ...)\n",
            "Swing                 131 videos (v_Swing_g01_c01.avi, v_Swing_g01_c02.avi, ...)\n",
            "TableTennisShot       140 videos (v_TableTennisShot_g01_c01.avi, v_TableTennisShot_g01_c02.avi, ...)\n",
            "TaiChi                100 videos (v_TaiChi_g01_c01.avi, v_TaiChi_g01_c02.avi, ...)\n",
            "TennisSwing           166 videos (v_TennisSwing_g01_c01.avi, v_TennisSwing_g01_c02.avi, ...)\n",
            "ThrowDiscus           130 videos (v_ThrowDiscus_g01_c01.avi, v_ThrowDiscus_g01_c02.avi, ...)\n",
            "TrampolineJumping     119 videos (v_TrampolineJumping_g01_c01.avi, v_TrampolineJumping_g01_c02.avi, ...)\n",
            "Typing                136 videos (v_Typing_g01_c01.avi, v_Typing_g01_c02.avi, ...)\n",
            "UnevenBars            104 videos (v_UnevenBars_g01_c01.avi, v_UnevenBars_g01_c02.avi, ...)\n",
            "VolleyballSpiking     116 videos (v_VolleyballSpiking_g01_c01.avi, v_VolleyballSpiking_g01_c02.avi, ...)\n",
            "WalkingWithDog        123 videos (v_WalkingWithDog_g01_c01.avi, v_WalkingWithDog_g01_c02.avi, ...)\n",
            "WallPushups           130 videos (v_WallPushups_g01_c01.avi, v_WallPushups_g01_c02.avi, ...)\n",
            "WritingOnBoard        152 videos (v_WritingOnBoard_g01_c01.avi, v_WritingOnBoard_g01_c02.avi, ...)\n",
            "YoYo                  128 videos (v_YoYo_g01_c01.avi, v_YoYo_g01_c02.avi, ...)\n"
          ]
        }
      ]
    },
    {
      "cell_type": "code",
      "source": [
        "# 샘플 \"타이핑\" 비디오 가져오기\n",
        "video_path = fetch_ufc_video(\"v_Typing_g01_c01.avi\")\n",
        "sample_video = load_video(video_path)\n",
        "sample_video.shape"
      ],
      "metadata": {
        "id": "s0VB_NxXyZQA",
        "colab": {
          "base_uri": "https://localhost:8080/"
        },
        "outputId": "1f9bc760-cb8a-4a11-8d7d-620827174c28"
      },
      "execution_count": 5,
      "outputs": [
        {
          "output_type": "stream",
          "name": "stdout",
          "text": [
            "Fetching https://www.crcv.ucf.edu/THUMOS14/UCF101/UCF101/v_Typing_g01_c01.avi => /tmp/tmpit6euy4_/v_Typing_g01_c01.avi\n"
          ]
        },
        {
          "output_type": "execute_result",
          "data": {
            "text/plain": [
              "(127, 224, 224, 3)"
            ]
          },
          "metadata": {},
          "execution_count": 5
        }
      ]
    },
    {
      "cell_type": "code",
      "source": [
        "# I3D 모델 로드\n",
        "i3d = hub.load(\"https://www.kaggle.com/models/deepmind/i3d-kinetics/frameworks/TensorFlow1/variations/400/versions/1\").signatures['default']"
      ],
      "metadata": {
        "id": "nn4KCwb0yZ6m"
      },
      "execution_count": 6,
      "outputs": []
    },
    {
      "cell_type": "code",
      "source": [
        "# 샘플 비디오에 대한 동작 예측\n",
        "def predict(sample_video):\n",
        "  model_input = tf.constant(sample_video, dtype=tf.float32)[tf.newaxis, ...]\n",
        "  logits = i3d(model_input)['default'][0]\n",
        "  probabilities = tf.nn.softmax(logits)\n",
        "\n",
        "  print(\"Top 5 actions:\")\n",
        "  for i in np.argsort(probabilities)[::-1][:5]:\n",
        "    print(f\"  {labels[i]:22}: {probabilities[i] * 100:5.2f}%\")"
      ],
      "metadata": {
        "id": "T9q9ymliyhGl"
      },
      "execution_count": 7,
      "outputs": []
    },
    {
      "cell_type": "code",
      "source": [
        "# 샘플 \"타이핑\" 비디오에 대한 동작 예측\n",
        "predict(sample_video)"
      ],
      "metadata": {
        "id": "3kQcYTjwyj2P",
        "colab": {
          "base_uri": "https://localhost:8080/"
        },
        "outputId": "a6085599-3238-432a-f969-dc1e404027b1"
      },
      "execution_count": 10,
      "outputs": [
        {
          "output_type": "stream",
          "name": "stdout",
          "text": [
            "Top 5 actions:\n",
            "  using computer        : 100.00%\n",
            "  drumming fingers      :  0.00%\n",
            "  texting               :  0.00%\n",
            "  using remote controller (not gaming):  0.00%\n",
            "  jogging               :  0.00%\n"
          ]
        }
      ]
    },
    {
      "cell_type": "code",
      "source": [
        "# 샘플 \"피아노 연주\" 비디오 가져오기\n",
        "video_path2 = fetch_ufc_video(\"v_PlayingPiano_g01_c01.avi\")\n",
        "sample_video2 = load_video(video_path2)\n",
        "predict(sample_video2)"
      ],
      "metadata": {
        "id": "GhqIGrAOykgn",
        "colab": {
          "base_uri": "https://localhost:8080/"
        },
        "outputId": "fa305a30-3a95-4a38-82bb-bdaa82134a4a"
      },
      "execution_count": 11,
      "outputs": [
        {
          "output_type": "stream",
          "name": "stdout",
          "text": [
            "Fetching https://www.crcv.ucf.edu/THUMOS14/UCF101/UCF101/v_PlayingPiano_g01_c01.avi => /tmp/tmpit6euy4_/v_PlayingPiano_g01_c01.avi\n",
            "Top 5 actions:\n",
            "  playing piano         : 94.79%\n",
            "  playing organ         :  1.88%\n",
            "  checking tires        :  1.19%\n",
            "  driving car           :  0.30%\n",
            "  playing trumpet       :  0.29%\n"
          ]
        }
      ]
    },
    {
      "cell_type": "code",
      "source": [
        "!pip install yt-dlp"
      ],
      "metadata": {
        "id": "vClKXtrQymdG",
        "colab": {
          "base_uri": "https://localhost:8080/"
        },
        "outputId": "b94d4a8a-5171-41a0-de79-812b566a0098"
      },
      "execution_count": 12,
      "outputs": [
        {
          "output_type": "stream",
          "name": "stdout",
          "text": [
            "Collecting yt-dlp\n",
            "  Downloading yt_dlp-2023.12.30-py2.py3-none-any.whl (3.0 MB)\n",
            "\u001b[2K     \u001b[90m━━━━━━━━━━━━━━━━━━━━━━━━━━━━━━━━━━━━━━━━\u001b[0m \u001b[32m3.0/3.0 MB\u001b[0m \u001b[31m9.3 MB/s\u001b[0m eta \u001b[36m0:00:00\u001b[0m\n",
            "\u001b[?25hCollecting mutagen (from yt-dlp)\n",
            "  Downloading mutagen-1.47.0-py3-none-any.whl (194 kB)\n",
            "\u001b[2K     \u001b[90m━━━━━━━━━━━━━━━━━━━━━━━━━━━━━━━━━━━━━━━━\u001b[0m \u001b[32m194.4/194.4 kB\u001b[0m \u001b[31m20.8 MB/s\u001b[0m eta \u001b[36m0:00:00\u001b[0m\n",
            "\u001b[?25hCollecting pycryptodomex (from yt-dlp)\n",
            "  Downloading pycryptodomex-3.20.0-cp35-abi3-manylinux_2_17_x86_64.manylinux2014_x86_64.whl (2.1 MB)\n",
            "\u001b[2K     \u001b[90m━━━━━━━━━━━━━━━━━━━━━━━━━━━━━━━━━━━━━━━━\u001b[0m \u001b[32m2.1/2.1 MB\u001b[0m \u001b[31m17.5 MB/s\u001b[0m eta \u001b[36m0:00:00\u001b[0m\n",
            "\u001b[?25hRequirement already satisfied: certifi in /usr/local/lib/python3.10/dist-packages (from yt-dlp) (2023.11.17)\n",
            "Requirement already satisfied: requests<3,>=2.31.0 in /usr/local/lib/python3.10/dist-packages (from yt-dlp) (2.31.0)\n",
            "Requirement already satisfied: urllib3<3,>=1.26.17 in /usr/local/lib/python3.10/dist-packages (from yt-dlp) (2.0.7)\n",
            "Collecting websockets>=12.0 (from yt-dlp)\n",
            "  Downloading websockets-12.0-cp310-cp310-manylinux_2_5_x86_64.manylinux1_x86_64.manylinux_2_17_x86_64.manylinux2014_x86_64.whl (130 kB)\n",
            "\u001b[2K     \u001b[90m━━━━━━━━━━━━━━━━━━━━━━━━━━━━━━━━━━━━━━━━\u001b[0m \u001b[32m130.2/130.2 kB\u001b[0m \u001b[31m15.7 MB/s\u001b[0m eta \u001b[36m0:00:00\u001b[0m\n",
            "\u001b[?25hCollecting brotli (from yt-dlp)\n",
            "  Downloading Brotli-1.1.0-cp310-cp310-manylinux_2_5_x86_64.manylinux1_x86_64.manylinux_2_12_x86_64.manylinux2010_x86_64.whl (3.0 MB)\n",
            "\u001b[2K     \u001b[90m━━━━━━━━━━━━━━━━━━━━━━━━━━━━━━━━━━━━━━━━\u001b[0m \u001b[32m3.0/3.0 MB\u001b[0m \u001b[31m23.8 MB/s\u001b[0m eta \u001b[36m0:00:00\u001b[0m\n",
            "\u001b[?25hRequirement already satisfied: charset-normalizer<4,>=2 in /usr/local/lib/python3.10/dist-packages (from requests<3,>=2.31.0->yt-dlp) (3.3.2)\n",
            "Requirement already satisfied: idna<4,>=2.5 in /usr/local/lib/python3.10/dist-packages (from requests<3,>=2.31.0->yt-dlp) (3.6)\n",
            "Installing collected packages: brotli, websockets, pycryptodomex, mutagen, yt-dlp\n",
            "Successfully installed brotli-1.1.0 mutagen-1.47.0 pycryptodomex-3.20.0 websockets-12.0 yt-dlp-2023.12.30\n"
          ]
        }
      ]
    },
    {
      "cell_type": "code",
      "source": [
        "# YouTube에서 피아노 연주 동영상 가져오기\n",
        "!yt-dlp -f 'bestvideo[ext=mp4]+bestaudio[ext=m4a]/mp4' -o test_video_piano.mp4 https://www.youtube.com/watch?v=wnD81KcTL0o"
      ],
      "metadata": {
        "id": "R9LsgfTEyt8i",
        "colab": {
          "base_uri": "https://localhost:8080/"
        },
        "outputId": "060071f2-d09c-456c-8759-f9b3fecebcd6"
      },
      "execution_count": 13,
      "outputs": [
        {
          "output_type": "stream",
          "name": "stdout",
          "text": [
            "[youtube] Extracting URL: https://www.youtube.com/watch?v=wnD81KcTL0o\n",
            "[youtube] wnD81KcTL0o: Downloading webpage\n",
            "[youtube] wnD81KcTL0o: Downloading ios player API JSON\n",
            "[youtube] wnD81KcTL0o: Downloading android player API JSON\n",
            "[youtube] wnD81KcTL0o: Downloading m3u8 information\n",
            "[info] wnD81KcTL0o: Downloading 1 format(s): 609+140\n",
            "[hlsnative] Downloading m3u8 manifest\n",
            "[hlsnative] Total fragments: 19\n",
            "[download] Destination: test_video_piano.f609.mp4\n",
            "\u001b[K[download] 100% of    4.69MiB in \u001b[1;37m00:00:02\u001b[0m at \u001b[0;32m1.57MiB/s\u001b[0m\n",
            "[download] Destination: test_video_piano.f140.m4a\n",
            "\u001b[K[download] 100% of    1.52MiB in \u001b[1;37m00:00:00\u001b[0m at \u001b[0;32m6.66MiB/s\u001b[0m\n",
            "[Merger] Merging formats into \"test_video_piano.mp4\"\n",
            "Deleting original file test_video_piano.f140.m4a (pass -k to keep)\n",
            "Deleting original file test_video_piano.f609.mp4 (pass -k to keep)\n"
          ]
        }
      ]
    },
    {
      "cell_type": "code",
      "source": [
        "video_path3 = \"test_video_piano.mp4\"\n",
        "sample_video3 = load_video(video_path3)[:100]\n",
        "sample_video3.shape\n",
        "predict(sample_video3)"
      ],
      "metadata": {
        "id": "KdtPaNhUywh1",
        "colab": {
          "base_uri": "https://localhost:8080/"
        },
        "outputId": "eb490334-fdce-420e-d9ef-c6eb94bcbbec"
      },
      "execution_count": 14,
      "outputs": [
        {
          "output_type": "stream",
          "name": "stdout",
          "text": [
            "Top 5 actions:\n",
            "  cleaning windows      :  9.20%\n",
            "  playing bagpipes      :  8.79%\n",
            "  playing recorder      :  6.03%\n",
            "  playing trumpet       :  4.54%\n",
            "  playing piano         :  3.91%\n"
          ]
        }
      ]
    },
    {
      "cell_type": "code",
      "source": [
        "# YouTube에서 \"타이핑\" 동영상 다운로드\n",
        "!yt-dlp -f 'bestvideo[ext=mp4]+bestaudio[ext=m4a]/mp4' -o test_video_typing.mp4 https://www.youtube.com/watch?v=LBSwweZj4ok"
      ],
      "metadata": {
        "id": "jws4StenyyCi",
        "colab": {
          "base_uri": "https://localhost:8080/"
        },
        "outputId": "f8ee5a52-030c-4103-e7ec-b600adafda82"
      },
      "execution_count": 15,
      "outputs": [
        {
          "output_type": "stream",
          "name": "stdout",
          "text": [
            "[youtube] Extracting URL: https://www.youtube.com/watch?v=LBSwweZj4ok\n",
            "[youtube] LBSwweZj4ok: Downloading webpage\n",
            "[youtube] LBSwweZj4ok: Downloading ios player API JSON\n",
            "[youtube] LBSwweZj4ok: Downloading android player API JSON\n",
            "[youtube] LBSwweZj4ok: Downloading m3u8 information\n",
            "[info] LBSwweZj4ok: Downloading 1 format(s): 614+140\n",
            "[hlsnative] Downloading m3u8 manifest\n",
            "[hlsnative] Total fragments: 4\n",
            "[download] Destination: test_video_typing.f614.mp4\n",
            "\u001b[K[download] 100% of    1.92MiB in \u001b[1;37m00:00:00\u001b[0m at \u001b[0;32m2.02MiB/s\u001b[0m\n",
            "[download] Destination: test_video_typing.f140.m4a\n",
            "\u001b[K[download] 100% of  278.48KiB in \u001b[1;37m00:00:00\u001b[0m at \u001b[0;32m2.68MiB/s\u001b[0m\n",
            "[Merger] Merging formats into \"test_video_typing.mp4\"\n",
            "Deleting original file test_video_typing.f140.m4a (pass -k to keep)\n",
            "Deleting original file test_video_typing.f614.mp4 (pass -k to keep)\n"
          ]
        }
      ]
    },
    {
      "cell_type": "code",
      "source": [
        "video_path4 = \"test_video_typing.mp4\"\n",
        "sample_video4 = load_video(video_path4)[:100]\n",
        "sample_video4.shape\n",
        "predict(sample_video4)"
      ],
      "metadata": {
        "id": "9ZcigxyYyzL6",
        "colab": {
          "base_uri": "https://localhost:8080/"
        },
        "outputId": "b114bf1d-f1cb-439d-ae4a-a89910de43fc"
      },
      "execution_count": 16,
      "outputs": [
        {
          "output_type": "stream",
          "name": "stdout",
          "text": [
            "Top 5 actions:\n",
            "  using computer        : 97.99%\n",
            "  applying cream        :  0.97%\n",
            "  tapping pen           :  0.54%\n",
            "  drumming fingers      :  0.14%\n",
            "  breading or breadcrumbing:  0.09%\n"
          ]
        }
      ]
    }
  ],
  "metadata": {
    "colab": {
      "toc_visible": true,
      "provenance": []
    },
    "kernelspec": {
      "display_name": "Python 3",
      "name": "python3"
    }
  },
  "nbformat": 4,
  "nbformat_minor": 0
}