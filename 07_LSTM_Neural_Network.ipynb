{
  "cells": [
    {
      "cell_type": "code",
      "source": [
        "# Google Colab에서 Kaggle API를 사용하기 위한 라이브러리 설치\n",
        "!pip install kaggle\n",
        "\n",
        "# Kaggle API 토큰 업로드\n",
        "from google.colab import files\n",
        "files.upload()"
      ],
      "metadata": {
        "id": "MwRJ16jyjMnJ"
      },
      "execution_count": null,
      "outputs": []
    },
    {
      "cell_type": "code",
      "source": [
        "# Kaggle API 토큰을 사용자 디렉토리로 복사하고 권한 설정\n",
        "!mkdir -p ~/.kaggle\n",
        "!cp kaggle.json ~/.kaggle/\n",
        "!chmod 600 ~/.kaggle/kaggle.json"
      ],
      "metadata": {
        "id": "o7McJ-bhOFIH"
      },
      "execution_count": 30,
      "outputs": []
    },
    {
      "cell_type": "code",
      "source": [
        "# Kaggle에서 데이터셋 다운로드\n",
        "!kaggle datasets download -d hetulmehta/website-classification"
      ],
      "metadata": {
        "id": "2hHU3jGpOIqc",
        "colab": {
          "base_uri": "https://localhost:8080/"
        },
        "outputId": "6d575428-c971-45c6-ba6d-160b576e8321"
      },
      "execution_count": 31,
      "outputs": [
        {
          "output_type": "stream",
          "name": "stdout",
          "text": [
            "website-classification.zip: Skipping, found more recently modified local copy (use --force to force download)\n"
          ]
        }
      ]
    },
    {
      "cell_type": "code",
      "source": [
        "# 다운로드한 데이터셋 압축 해제\n",
        "!unzip website-classification.zip"
      ],
      "metadata": {
        "id": "SbH9Q-mUOKaZ",
        "colab": {
          "base_uri": "https://localhost:8080/"
        },
        "outputId": "0a65cad8-6ad0-42df-fb7e-9d3a3b6c5625"
      },
      "execution_count": 33,
      "outputs": [
        {
          "output_type": "stream",
          "name": "stdout",
          "text": [
            "Archive:  website-classification.zip\n",
            "replace website_classification.csv? [y]es, [n]o, [A]ll, [N]one, [r]ename: "
          ]
        }
      ]
    },
    {
      "cell_type": "code",
      "source": [
        "# 필요한 라이브러리 및 모듈 로드\n",
        "import numpy as np\n",
        "import pandas as pd\n",
        "from sklearn.model_selection import train_test_split\n",
        "from sklearn.metrics import accuracy_score, classification_report, confusion_matrix"
      ],
      "metadata": {
        "id": "OEWFwhkhMuEV"
      },
      "execution_count": 34,
      "outputs": []
    },
    {
      "cell_type": "code",
      "source": [
        "from keras.models import Sequential\n",
        "from keras.layers import Dense, Activation"
      ],
      "metadata": {
        "id": "gw-QOiXzNOVI"
      },
      "execution_count": 7,
      "outputs": []
    },
    {
      "cell_type": "code",
      "source": [
        "# 데이터 로드 및 전처리\n",
        "wc_data = pd.read_csv('website_classification.csv')\n",
        "# 'Streaming Services' 카테고리를 1로, 다른 카테고리를 0으로 변환\n",
        "wc_data['Outlook'] = (wc_data['Category'] == 'Streaming Services').astype(int)\n",
        "# 훈련 및 테스트 데이터 분할\n",
        "X_train, X_test, y_train, y_test = train_test_split(wc_data['cleaned_website_text'], wc_data['Outlook'], test_size=0.2, random_state=42)"
      ],
      "metadata": {
        "id": "9Gyj6yJTNV57"
      },
      "execution_count": 35,
      "outputs": []
    },
    {
      "cell_type": "code",
      "source": [
        "from keras.preprocessing.text import Tokenizer\n",
        "from keras.preprocessing.sequence import pad_sequences"
      ],
      "metadata": {
        "id": "IAmdFu5gRlFj"
      },
      "execution_count": 9,
      "outputs": []
    },
    {
      "cell_type": "code",
      "source": [
        "!wget http://nlp.stanford.edu/data/glove.6B.zip"
      ],
      "metadata": {
        "id": "NcXiXqiSTPML",
        "colab": {
          "base_uri": "https://localhost:8080/"
        },
        "outputId": "58a4617a-aec3-4694-c8e7-aa0c31ad69a7"
      },
      "execution_count": 10,
      "outputs": [
        {
          "output_type": "stream",
          "name": "stdout",
          "text": [
            "--2024-01-25 16:45:27--  http://nlp.stanford.edu/data/glove.6B.zip\n",
            "Resolving nlp.stanford.edu (nlp.stanford.edu)... 171.64.67.140\n",
            "Connecting to nlp.stanford.edu (nlp.stanford.edu)|171.64.67.140|:80... connected.\n",
            "HTTP request sent, awaiting response... 302 Found\n",
            "Location: https://nlp.stanford.edu/data/glove.6B.zip [following]\n",
            "--2024-01-25 16:45:28--  https://nlp.stanford.edu/data/glove.6B.zip\n",
            "Connecting to nlp.stanford.edu (nlp.stanford.edu)|171.64.67.140|:443... connected.\n",
            "HTTP request sent, awaiting response... 301 Moved Permanently\n",
            "Location: https://downloads.cs.stanford.edu/nlp/data/glove.6B.zip [following]\n",
            "--2024-01-25 16:45:28--  https://downloads.cs.stanford.edu/nlp/data/glove.6B.zip\n",
            "Resolving downloads.cs.stanford.edu (downloads.cs.stanford.edu)... 171.64.64.22\n",
            "Connecting to downloads.cs.stanford.edu (downloads.cs.stanford.edu)|171.64.64.22|:443... connected.\n",
            "HTTP request sent, awaiting response... 200 OK\n",
            "Length: 862182613 (822M) [application/zip]\n",
            "Saving to: ‘glove.6B.zip’\n",
            "\n",
            "glove.6B.zip        100%[===================>] 822.24M  5.08MB/s    in 2m 40s  \n",
            "\n",
            "2024-01-25 16:48:09 (5.13 MB/s) - ‘glove.6B.zip’ saved [862182613/862182613]\n",
            "\n"
          ]
        }
      ]
    },
    {
      "cell_type": "code",
      "source": [
        "!unzip glove*.zip"
      ],
      "metadata": {
        "id": "bUzCObn1ULXB",
        "colab": {
          "base_uri": "https://localhost:8080/"
        },
        "outputId": "8d144351-b922-4310-dbf6-872d8e0222a7"
      },
      "execution_count": 11,
      "outputs": [
        {
          "output_type": "stream",
          "name": "stdout",
          "text": [
            "Archive:  glove.6B.zip\n",
            "  inflating: glove.6B.50d.txt        \n",
            "  inflating: glove.6B.100d.txt       \n",
            "  inflating: glove.6B.200d.txt       \n",
            "  inflating: glove.6B.300d.txt       \n"
          ]
        }
      ]
    },
    {
      "cell_type": "code",
      "source": [
        "!ls\n",
        "!pwd"
      ],
      "metadata": {
        "id": "ArJQawF1UXK6",
        "colab": {
          "base_uri": "https://localhost:8080/"
        },
        "outputId": "e3dd544f-bfe3-4c19-ddfc-20c1f154f679"
      },
      "execution_count": 12,
      "outputs": [
        {
          "output_type": "stream",
          "name": "stdout",
          "text": [
            "glove.6B.100d.txt  glove.6B.50d.txt  sample_data\n",
            "glove.6B.200d.txt  glove.6B.zip      website_classification.csv\n",
            "glove.6B.300d.txt  kaggle.json\t     website-classification.zip\n",
            "/content\n"
          ]
        }
      ]
    },
    {
      "cell_type": "code",
      "source": [
        "import os\n",
        "\n",
        "file_path = 'glove.6B.50d.txt'\n",
        "\n",
        "if os.path.exists(file_path):\n",
        "    print(f\"The file '{file_path}' exists.\")\n",
        "else:\n",
        "    print(f\"The file '{file_path}' does not exist. Please check the path.\")"
      ],
      "metadata": {
        "id": "XxpkOF4LU90t",
        "colab": {
          "base_uri": "https://localhost:8080/"
        },
        "outputId": "f41c694e-dfeb-4c33-f0c1-a9c110aa340e"
      },
      "execution_count": 13,
      "outputs": [
        {
          "output_type": "stream",
          "name": "stdout",
          "text": [
            "The file 'glove.6B.50d.txt' exists.\n"
          ]
        }
      ]
    },
    {
      "cell_type": "code",
      "source": [
        "import os\n",
        "\n",
        "print(\"Current Working Directory:\", os.getcwd())"
      ],
      "metadata": {
        "id": "cGgcvy7BVDsl",
        "colab": {
          "base_uri": "https://localhost:8080/"
        },
        "outputId": "c2d5b7cd-2c66-4890-cae2-0d762a23c237"
      },
      "execution_count": 14,
      "outputs": [
        {
          "output_type": "stream",
          "name": "stdout",
          "text": [
            "Current Working Directory: /content\n"
          ]
        }
      ]
    },
    {
      "cell_type": "code",
      "source": [
        "from gensim.models import KeyedVectors\n",
        "\n",
        "# GloVe 워드 임베딩 모델 로드\n",
        "glove_model = KeyedVectors.load_word2vec_format('glove.6B.50d.txt', binary=False, no_header=True)"
      ],
      "metadata": {
        "id": "Tc8xKAK7R5y9"
      },
      "execution_count": 36,
      "outputs": []
    },
    {
      "cell_type": "code",
      "source": [
        "# 텍스트 데이터 토큰화\n",
        "tokenizer = Tokenizer(num_words=10000)\n",
        "tokenizer.fit_on_texts(wc_data['cleaned_website_text'])\n",
        "X_train_tokens = tokenizer.texts_to_sequences(X_train)\n",
        "X_test_tokens = tokenizer.texts_to_sequences(X_test)"
      ],
      "metadata": {
        "id": "BQKI9ZqmSADR"
      },
      "execution_count": 37,
      "outputs": []
    },
    {
      "cell_type": "code",
      "source": [
        "# 시퀀스를 고정 길이로 패딩\n",
        "max_len = 100\n",
        "X_train_padded = pad_sequences(X_train_tokens, maxlen=max_len)\n",
        "X_test_padded = pad_sequences(X_test_tokens, maxlen=max_len)"
      ],
      "metadata": {
        "id": "jCK26quXSCna"
      },
      "execution_count": 38,
      "outputs": []
    },
    {
      "cell_type": "code",
      "source": [
        "# 토큰을 워드 임베딩 벡터로 변환\n",
        "X_train_vectors = np.zeros((len(X_train_padded), max_len, 50))\n",
        "X_test_vectors = np.zeros((len(X_test_padded), max_len, 50))\n",
        "\n",
        "# 정수 인덱스를 단어로 변환하기 위한 역 매핑\n",
        "reverse_word_index = {index: word for word, index in tokenizer.word_index.items()}\n",
        "\n",
        "# 훈련 데이터에 대한 워드 임베딩 벡터 생성\n",
        "for i, seq in enumerate(X_train_padded):\n",
        "    for j, index in enumerate(seq):\n",
        "        word = reverse_word_index.get(index, '')  # 인덱스에 해당하는 단어 가져오기\n",
        "        if word in glove_model:\n",
        "            X_train_vectors[i][j] = glove_model[word]\n",
        "\n",
        "# 테스트 데이터에 대한 워드 임베딩 벡터 생성\n",
        "for i, seq in enumerate(X_test_padded):\n",
        "    for j, index in enumerate(seq):\n",
        "        word = reverse_word_index.get(index, '')  # 인덱스에 해당하는 단어 가져오기\n",
        "        if word in glove_model:\n",
        "            X_test_vectors[i][j] = glove_model[word]"
      ],
      "metadata": {
        "id": "C668AwOCSEl-"
      },
      "execution_count": 39,
      "outputs": []
    },
    {
      "cell_type": "code",
      "source": [
        "# 워드 임베딩 매트릭스 생성\n",
        "embedding_dim = 50\n",
        "embedding_matrix = np.zeros((len(tokenizer.word_index) + 1, embedding_dim))\n",
        "\n",
        "for word, i in tokenizer.word_index.items():\n",
        "    if word in glove_model:\n",
        "        embedding_matrix[i] = glove_model[word]"
      ],
      "metadata": {
        "id": "Mo0xXWJOaLP2"
      },
      "execution_count": 19,
      "outputs": []
    },
    {
      "cell_type": "code",
      "source": [
        "!pip install tensorflow-gpu"
      ],
      "metadata": {
        "id": "EXpN7z1Za3B0",
        "colab": {
          "base_uri": "https://localhost:8080/"
        },
        "outputId": "5a29456b-bd3a-434e-a34e-3679fc474725"
      },
      "execution_count": 20,
      "outputs": [
        {
          "output_type": "stream",
          "name": "stdout",
          "text": [
            "Collecting tensorflow-gpu\n",
            "  Downloading tensorflow-gpu-2.12.0.tar.gz (2.6 kB)\n",
            "  \u001b[1;31merror\u001b[0m: \u001b[1msubprocess-exited-with-error\u001b[0m\n",
            "  \n",
            "  \u001b[31m×\u001b[0m \u001b[32mpython setup.py egg_info\u001b[0m did not run successfully.\n",
            "  \u001b[31m│\u001b[0m exit code: \u001b[1;36m1\u001b[0m\n",
            "  \u001b[31m╰─>\u001b[0m See above for output.\n",
            "  \n",
            "  \u001b[1;35mnote\u001b[0m: This error originates from a subprocess, and is likely not a problem with pip.\n",
            "  Preparing metadata (setup.py) ... \u001b[?25l\u001b[?25herror\n",
            "\u001b[1;31merror\u001b[0m: \u001b[1mmetadata-generation-failed\u001b[0m\n",
            "\n",
            "\u001b[31m×\u001b[0m Encountered error while generating package metadata.\n",
            "\u001b[31m╰─>\u001b[0m See above for output.\n",
            "\n",
            "\u001b[1;35mnote\u001b[0m: This is an issue with the package mentioned above, not pip.\n",
            "\u001b[1;36mhint\u001b[0m: See above for details.\n"
          ]
        }
      ]
    },
    {
      "cell_type": "code",
      "source": [
        "import tensorflow as tf\n",
        "\n",
        "# GPU 사용 가능 여부 확인\n",
        "physical_devices = tf.config.list_physical_devices('GPU')\n",
        "if len(physical_devices) > 0:\n",
        "    print(\"TensorFlow-GPU is available and configured.\")\n",
        "else:\n",
        "    print(\"No GPU detected. TensorFlow will use CPU.\")"
      ],
      "metadata": {
        "id": "g_SG6nJCbJfq",
        "colab": {
          "base_uri": "https://localhost:8080/"
        },
        "outputId": "dd32dc73-9b9e-450e-a075-db604dadb06e"
      },
      "execution_count": 21,
      "outputs": [
        {
          "output_type": "stream",
          "name": "stdout",
          "text": [
            "TensorFlow-GPU is available and configured.\n"
          ]
        }
      ]
    },
    {
      "cell_type": "code",
      "source": [
        "# TensorFlow 업그레이드\n",
        "!pip install --upgrade tensorflow"
      ],
      "metadata": {
        "id": "GKJv-kRhbjNt",
        "colab": {
          "base_uri": "https://localhost:8080/",
          "height": 1000
        },
        "outputId": "2b75f1ec-0ce0-4c83-8d62-995fd1b0d980"
      },
      "execution_count": 22,
      "outputs": [
        {
          "output_type": "stream",
          "name": "stdout",
          "text": [
            "Requirement already satisfied: tensorflow in /usr/local/lib/python3.10/dist-packages (2.15.0)\n",
            "Collecting tensorflow\n",
            "  Downloading tensorflow-2.15.0.post1-cp310-cp310-manylinux_2_17_x86_64.manylinux2014_x86_64.whl (475.2 MB)\n",
            "\u001b[2K     \u001b[90m━━━━━━━━━━━━━━━━━━━━━━━━━━━━━━━━━━━━━━━━\u001b[0m \u001b[32m475.2/475.2 MB\u001b[0m \u001b[31m3.3 MB/s\u001b[0m eta \u001b[36m0:00:00\u001b[0m\n",
            "\u001b[?25hRequirement already satisfied: absl-py>=1.0.0 in /usr/local/lib/python3.10/dist-packages (from tensorflow) (1.4.0)\n",
            "Requirement already satisfied: astunparse>=1.6.0 in /usr/local/lib/python3.10/dist-packages (from tensorflow) (1.6.3)\n",
            "Requirement already satisfied: flatbuffers>=23.5.26 in /usr/local/lib/python3.10/dist-packages (from tensorflow) (23.5.26)\n",
            "Requirement already satisfied: gast!=0.5.0,!=0.5.1,!=0.5.2,>=0.2.1 in /usr/local/lib/python3.10/dist-packages (from tensorflow) (0.5.4)\n",
            "Requirement already satisfied: google-pasta>=0.1.1 in /usr/local/lib/python3.10/dist-packages (from tensorflow) (0.2.0)\n",
            "Requirement already satisfied: h5py>=2.9.0 in /usr/local/lib/python3.10/dist-packages (from tensorflow) (3.9.0)\n",
            "Requirement already satisfied: libclang>=13.0.0 in /usr/local/lib/python3.10/dist-packages (from tensorflow) (16.0.6)\n",
            "Requirement already satisfied: ml-dtypes~=0.2.0 in /usr/local/lib/python3.10/dist-packages (from tensorflow) (0.2.0)\n",
            "Requirement already satisfied: numpy<2.0.0,>=1.23.5 in /usr/local/lib/python3.10/dist-packages (from tensorflow) (1.23.5)\n",
            "Requirement already satisfied: opt-einsum>=2.3.2 in /usr/local/lib/python3.10/dist-packages (from tensorflow) (3.3.0)\n",
            "Requirement already satisfied: packaging in /usr/local/lib/python3.10/dist-packages (from tensorflow) (23.2)\n",
            "Requirement already satisfied: protobuf!=4.21.0,!=4.21.1,!=4.21.2,!=4.21.3,!=4.21.4,!=4.21.5,<5.0.0dev,>=3.20.3 in /usr/local/lib/python3.10/dist-packages (from tensorflow) (3.20.3)\n",
            "Requirement already satisfied: setuptools in /usr/local/lib/python3.10/dist-packages (from tensorflow) (67.7.2)\n",
            "Requirement already satisfied: six>=1.12.0 in /usr/local/lib/python3.10/dist-packages (from tensorflow) (1.16.0)\n",
            "Requirement already satisfied: termcolor>=1.1.0 in /usr/local/lib/python3.10/dist-packages (from tensorflow) (2.4.0)\n",
            "Requirement already satisfied: typing-extensions>=3.6.6 in /usr/local/lib/python3.10/dist-packages (from tensorflow) (4.5.0)\n",
            "Requirement already satisfied: wrapt<1.15,>=1.11.0 in /usr/local/lib/python3.10/dist-packages (from tensorflow) (1.14.1)\n",
            "Requirement already satisfied: tensorflow-io-gcs-filesystem>=0.23.1 in /usr/local/lib/python3.10/dist-packages (from tensorflow) (0.35.0)\n",
            "Requirement already satisfied: grpcio<2.0,>=1.24.3 in /usr/local/lib/python3.10/dist-packages (from tensorflow) (1.60.0)\n",
            "Requirement already satisfied: tensorboard<2.16,>=2.15 in /usr/local/lib/python3.10/dist-packages (from tensorflow) (2.15.1)\n",
            "Requirement already satisfied: tensorflow-estimator<2.16,>=2.15.0 in /usr/local/lib/python3.10/dist-packages (from tensorflow) (2.15.0)\n",
            "Requirement already satisfied: keras<2.16,>=2.15.0 in /usr/local/lib/python3.10/dist-packages (from tensorflow) (2.15.0)\n",
            "Requirement already satisfied: wheel<1.0,>=0.23.0 in /usr/local/lib/python3.10/dist-packages (from astunparse>=1.6.0->tensorflow) (0.42.0)\n",
            "Requirement already satisfied: google-auth<3,>=1.6.3 in /usr/local/lib/python3.10/dist-packages (from tensorboard<2.16,>=2.15->tensorflow) (2.17.3)\n",
            "Requirement already satisfied: google-auth-oauthlib<2,>=0.5 in /usr/local/lib/python3.10/dist-packages (from tensorboard<2.16,>=2.15->tensorflow) (1.2.0)\n",
            "Requirement already satisfied: markdown>=2.6.8 in /usr/local/lib/python3.10/dist-packages (from tensorboard<2.16,>=2.15->tensorflow) (3.5.2)\n",
            "Requirement already satisfied: requests<3,>=2.21.0 in /usr/local/lib/python3.10/dist-packages (from tensorboard<2.16,>=2.15->tensorflow) (2.31.0)\n",
            "Requirement already satisfied: tensorboard-data-server<0.8.0,>=0.7.0 in /usr/local/lib/python3.10/dist-packages (from tensorboard<2.16,>=2.15->tensorflow) (0.7.2)\n",
            "Requirement already satisfied: werkzeug>=1.0.1 in /usr/local/lib/python3.10/dist-packages (from tensorboard<2.16,>=2.15->tensorflow) (3.0.1)\n",
            "Requirement already satisfied: cachetools<6.0,>=2.0.0 in /usr/local/lib/python3.10/dist-packages (from google-auth<3,>=1.6.3->tensorboard<2.16,>=2.15->tensorflow) (5.3.2)\n",
            "Requirement already satisfied: pyasn1-modules>=0.2.1 in /usr/local/lib/python3.10/dist-packages (from google-auth<3,>=1.6.3->tensorboard<2.16,>=2.15->tensorflow) (0.3.0)\n",
            "Requirement already satisfied: rsa<5,>=3.1.4 in /usr/local/lib/python3.10/dist-packages (from google-auth<3,>=1.6.3->tensorboard<2.16,>=2.15->tensorflow) (4.9)\n",
            "Requirement already satisfied: requests-oauthlib>=0.7.0 in /usr/local/lib/python3.10/dist-packages (from google-auth-oauthlib<2,>=0.5->tensorboard<2.16,>=2.15->tensorflow) (1.3.1)\n",
            "Requirement already satisfied: charset-normalizer<4,>=2 in /usr/local/lib/python3.10/dist-packages (from requests<3,>=2.21.0->tensorboard<2.16,>=2.15->tensorflow) (3.3.2)\n",
            "Requirement already satisfied: idna<4,>=2.5 in /usr/local/lib/python3.10/dist-packages (from requests<3,>=2.21.0->tensorboard<2.16,>=2.15->tensorflow) (3.6)\n",
            "Requirement already satisfied: urllib3<3,>=1.21.1 in /usr/local/lib/python3.10/dist-packages (from requests<3,>=2.21.0->tensorboard<2.16,>=2.15->tensorflow) (2.0.7)\n",
            "Requirement already satisfied: certifi>=2017.4.17 in /usr/local/lib/python3.10/dist-packages (from requests<3,>=2.21.0->tensorboard<2.16,>=2.15->tensorflow) (2023.11.17)\n",
            "Requirement already satisfied: MarkupSafe>=2.1.1 in /usr/local/lib/python3.10/dist-packages (from werkzeug>=1.0.1->tensorboard<2.16,>=2.15->tensorflow) (2.1.4)\n",
            "Requirement already satisfied: pyasn1<0.6.0,>=0.4.6 in /usr/local/lib/python3.10/dist-packages (from pyasn1-modules>=0.2.1->google-auth<3,>=1.6.3->tensorboard<2.16,>=2.15->tensorflow) (0.5.1)\n",
            "Requirement already satisfied: oauthlib>=3.0.0 in /usr/local/lib/python3.10/dist-packages (from requests-oauthlib>=0.7.0->google-auth-oauthlib<2,>=0.5->tensorboard<2.16,>=2.15->tensorflow) (3.2.2)\n",
            "Installing collected packages: tensorflow\n",
            "  Attempting uninstall: tensorflow\n",
            "    Found existing installation: tensorflow 2.15.0\n",
            "    Uninstalling tensorflow-2.15.0:\n",
            "      Successfully uninstalled tensorflow-2.15.0\n",
            "Successfully installed tensorflow-2.15.0.post1\n"
          ]
        },
        {
          "output_type": "display_data",
          "data": {
            "application/vnd.colab-display-data+json": {
              "pip_warning": {
                "packages": [
                  "tensorflow"
                ]
              }
            }
          },
          "metadata": {}
        }
      ]
    },
    {
      "cell_type": "code",
      "source": [
        "from keras.models import Sequential\n",
        "from keras.layers import Dense, Embedding, LSTM, Flatten\n",
        "\n",
        "# LSTM 기반 신경망 모델 생성\n",
        "model = Sequential()\n",
        "\n",
        "# LSTM 레이어 추가\n",
        "model.add(LSTM(128, dropout=0.2, recurrent_dropout=0.2, input_shape=(max_len, embedding_dim)))\n",
        "\n",
        "# 이진 분류를 위한 Dense 레이어 추가\n",
        "model.add(Dense(1, activation='sigmoid'))\n",
        "\n",
        "# 모델 컴파일\n",
        "model.compile(loss='binary_crossentropy', optimizer='adam', metrics=['accuracy'])\n",
        "\n",
        "# 모델 구조 출력\n",
        "model.summary()"
      ],
      "metadata": {
        "id": "MfMgDJifNdlt",
        "colab": {
          "base_uri": "https://localhost:8080/"
        },
        "outputId": "6001e8e6-0617-4716-d125-95a10cc7bcb7"
      },
      "execution_count": 23,
      "outputs": [
        {
          "output_type": "stream",
          "name": "stderr",
          "text": [
            "WARNING:tensorflow:Layer lstm will not use cuDNN kernels since it doesn't meet the criteria. It will use a generic GPU kernel as fallback when running on GPU.\n"
          ]
        },
        {
          "output_type": "stream",
          "name": "stdout",
          "text": [
            "Model: \"sequential\"\n",
            "_________________________________________________________________\n",
            " Layer (type)                Output Shape              Param #   \n",
            "=================================================================\n",
            " lstm (LSTM)                 (None, 128)               91648     \n",
            "                                                                 \n",
            " dense (Dense)               (None, 1)                 129       \n",
            "                                                                 \n",
            "=================================================================\n",
            "Total params: 91777 (358.50 KB)\n",
            "Trainable params: 91777 (358.50 KB)\n",
            "Non-trainable params: 0 (0.00 Byte)\n",
            "_________________________________________________________________\n"
          ]
        }
      ]
    },
    {
      "cell_type": "code",
      "source": [
        "# 모델 훈련\n",
        "model.fit(X_train_vectors, y_train, epochs=10, batch_size=32, validation_split=0.2)"
      ],
      "metadata": {
        "id": "ATbSf8ZLNhCA",
        "colab": {
          "base_uri": "https://localhost:8080/"
        },
        "outputId": "f6c64f35-27f3-4235-9f5e-7a2e3b56900b"
      },
      "execution_count": 24,
      "outputs": [
        {
          "output_type": "stream",
          "name": "stdout",
          "text": [
            "Epoch 1/10\n",
            "29/29 [==============================] - 27s 435ms/step - loss: 0.3280 - accuracy: 0.9189 - val_loss: 0.2760 - val_accuracy: 0.9204\n",
            "Epoch 2/10\n",
            "29/29 [==============================] - 8s 274ms/step - loss: 0.2613 - accuracy: 0.9233 - val_loss: 0.2654 - val_accuracy: 0.9204\n",
            "Epoch 3/10\n",
            "29/29 [==============================] - 8s 274ms/step - loss: 0.2309 - accuracy: 0.9244 - val_loss: 0.2491 - val_accuracy: 0.9248\n",
            "Epoch 4/10\n",
            "29/29 [==============================] - 7s 249ms/step - loss: 0.1986 - accuracy: 0.9356 - val_loss: 0.1662 - val_accuracy: 0.9513\n",
            "Epoch 5/10\n",
            "29/29 [==============================] - 8s 288ms/step - loss: 0.1560 - accuracy: 0.9433 - val_loss: 0.2646 - val_accuracy: 0.9248\n",
            "Epoch 6/10\n",
            "29/29 [==============================] - 8s 277ms/step - loss: 0.2041 - accuracy: 0.9244 - val_loss: 0.2139 - val_accuracy: 0.9204\n",
            "Epoch 7/10\n",
            "29/29 [==============================] - 7s 244ms/step - loss: 0.1501 - accuracy: 0.9522 - val_loss: 0.1833 - val_accuracy: 0.9381\n",
            "Epoch 8/10\n",
            "29/29 [==============================] - 8s 277ms/step - loss: 0.1157 - accuracy: 0.9667 - val_loss: 0.1750 - val_accuracy: 0.9336\n",
            "Epoch 9/10\n",
            "29/29 [==============================] - 8s 276ms/step - loss: 0.1030 - accuracy: 0.9678 - val_loss: 0.1642 - val_accuracy: 0.9425\n",
            "Epoch 10/10\n",
            "29/29 [==============================] - 13s 463ms/step - loss: 0.0838 - accuracy: 0.9789 - val_loss: 0.1922 - val_accuracy: 0.9513\n"
          ]
        },
        {
          "output_type": "execute_result",
          "data": {
            "text/plain": [
              "<keras.src.callbacks.History at 0x7c62b40f8ca0>"
            ]
          },
          "metadata": {},
          "execution_count": 24
        }
      ]
    },
    {
      "cell_type": "code",
      "source": [
        "# 테스트 및 평가\n",
        "loss, accuracy = model.evaluate(X_test_vectors, y_test)\n",
        "print(f'Test Loss: {loss:.4f}, Test Accuracy: {accuracy:.4f}')"
      ],
      "metadata": {
        "id": "KlXNqAyjNrcy",
        "colab": {
          "base_uri": "https://localhost:8080/"
        },
        "outputId": "a4c7ae87-5c3f-4c43-f4f1-ddca55698076"
      },
      "execution_count": 25,
      "outputs": [
        {
          "output_type": "stream",
          "name": "stdout",
          "text": [
            "9/9 [==============================] - 0s 31ms/step - loss: 0.1224 - accuracy: 0.9645\n",
            "Test Loss: 0.1224, Test Accuracy: 0.9645\n"
          ]
        }
      ]
    },
    {
      "cell_type": "code",
      "source": [
        "import matplotlib.pyplot as plt\n",
        "\n",
        "# 훈련 기록 시각화\n",
        "history = model.fit(X_train_vectors, y_train, epochs=10, batch_size=32, validation_split=0.2)\n",
        "\n",
        "# 훈련 정확도 및 검증 정확도 그래프\n",
        "plt.plot(history.history['accuracy'], label='Training Accuracy')\n",
        "plt.plot(history.history['val_accuracy'], label='Validation Accuracy')\n",
        "plt.xlabel('Epoch')\n",
        "plt.ylabel('Accuracy')\n",
        "plt.legend()\n",
        "plt.show()\n",
        "\n",
        "# 훈련 손실 및 검증 손실 그래프\n",
        "plt.plot(history.history['loss'], label='Training Loss')\n",
        "plt.plot(history.history['val_loss'], label='Validation Loss')\n",
        "plt.xlabel('Epoch')\n",
        "plt.ylabel('Loss')\n",
        "plt.legend()\n",
        "plt.show()"
      ],
      "metadata": {
        "id": "JKS34aebem8x",
        "colab": {
          "base_uri": "https://localhost:8080/",
          "height": 1000
        },
        "outputId": "e0b678de-7f9d-40c2-e5eb-cbc803f0e09b"
      },
      "execution_count": 26,
      "outputs": [
        {
          "output_type": "stream",
          "name": "stdout",
          "text": [
            "Epoch 1/10\n",
            "29/29 [==============================] - 8s 277ms/step - loss: 0.0967 - accuracy: 0.9689 - val_loss: 0.1669 - val_accuracy: 0.9248\n",
            "Epoch 2/10\n",
            "29/29 [==============================] - 8s 287ms/step - loss: 0.0949 - accuracy: 0.9711 - val_loss: 0.1886 - val_accuracy: 0.9336\n",
            "Epoch 3/10\n",
            "29/29 [==============================] - 7s 244ms/step - loss: 0.1134 - accuracy: 0.9622 - val_loss: 0.1740 - val_accuracy: 0.9381\n",
            "Epoch 4/10\n",
            "29/29 [==============================] - 8s 271ms/step - loss: 0.0689 - accuracy: 0.9789 - val_loss: 0.1722 - val_accuracy: 0.9336\n",
            "Epoch 5/10\n",
            "29/29 [==============================] - 8s 261ms/step - loss: 0.0585 - accuracy: 0.9778 - val_loss: 0.1883 - val_accuracy: 0.9425\n",
            "Epoch 6/10\n",
            "29/29 [==============================] - 7s 251ms/step - loss: 0.0626 - accuracy: 0.9800 - val_loss: 0.2030 - val_accuracy: 0.9248\n",
            "Epoch 7/10\n",
            "29/29 [==============================] - 8s 272ms/step - loss: 0.0560 - accuracy: 0.9833 - val_loss: 0.1732 - val_accuracy: 0.9425\n",
            "Epoch 8/10\n",
            "29/29 [==============================] - 7s 241ms/step - loss: 0.0435 - accuracy: 0.9844 - val_loss: 0.1549 - val_accuracy: 0.9558\n",
            "Epoch 9/10\n",
            "29/29 [==============================] - 8s 273ms/step - loss: 0.0267 - accuracy: 0.9922 - val_loss: 0.1736 - val_accuracy: 0.9602\n",
            "Epoch 10/10\n",
            "29/29 [==============================] - 8s 289ms/step - loss: 0.0305 - accuracy: 0.9933 - val_loss: 0.1671 - val_accuracy: 0.9602\n"
          ]
        },
        {
          "output_type": "display_data",
          "data": {
            "text/plain": [
              "<Figure size 640x480 with 1 Axes>"
            ],
            "image/png": "[encoded data removed]"
          },
          "metadata": {}
        },
        {
          "output_type": "display_data",
          "data": {
            "text/plain": [
              "<Figure size 640x480 with 1 Axes>"
            ],
            "image/png": "[encoded data removed]"
          },
          "metadata": {}
        }
      ]
    },
    {
      "cell_type": "code",
      "source": [
        "from sklearn.metrics import confusion_matrix\n",
        "import seaborn as sns\n",
        "\n",
        "# 혼동 행렬 시각화\n",
        "predictions = model.predict(X_test_vectors)\n",
        "y_pred = (predictions > 0.5).astype(int)\n",
        "cm = confusion_matrix(y_test, y_pred)\n",
        "sns.heatmap(cm, annot=True, fmt='d', cmap='Blues', xticklabels=['Negative', 'Positive'], yticklabels=['Negative', 'Positive'])\n",
        "plt.xlabel('Predicted Label')\n",
        "plt.ylabel('True Label')\n",
        "plt.show()"
      ],
      "metadata": {
        "id": "2fqrSebsfU3x",
        "colab": {
          "base_uri": "https://localhost:8080/",
          "height": 466
        },
        "outputId": "ca03522c-14df-4421-b6a3-daaef5a3e3ab"
      },
      "execution_count": 27,
      "outputs": [
        {
          "output_type": "stream",
          "name": "stdout",
          "text": [
            "9/9 [==============================] - 0s 30ms/step\n"
          ]
        },
        {
          "output_type": "display_data",
          "data": {
            "text/plain": [
              "<Figure size 640x480 with 2 Axes>"
            ],
            "image/png": "[encoded data removed]"
          },
          "metadata": {}
        }
      ]
    },
    {
      "cell_type": "code",
      "source": [
        "from sklearn.metrics import roc_curve, auc\n",
        "\n",
        "# ROC 곡선 및 AUC 시각화\n",
        "predictions = model.predict(X_test_vectors)\n",
        "fpr, tpr, thresholds = roc_curve(y_test, predictions)\n",
        "roc_auc = auc(fpr, tpr)\n",
        "plt.plot(fpr, tpr, label=f'AUC = {roc_auc:.2f}')\n",
        "plt.plot([0, 1], [0, 1], linestyle='--', color='gray', label='Random')\n",
        "plt.xlabel('False Positive Rate')\n",
        "plt.ylabel('True Positive Rate')\n",
        "plt.title('ROC Curve')\n",
        "plt.legend()\n",
        "plt.show()"
      ],
      "metadata": {
        "id": "FVQV1jFqfafD",
        "colab": {
          "base_uri": "https://localhost:8080/",
          "height": 489
        },
        "outputId": "29b208c9-90ea-49a8-864e-7fe0f4eec634"
      },
      "execution_count": 28,
      "outputs": [
        {
          "output_type": "stream",
          "name": "stdout",
          "text": [
            "9/9 [==============================] - 0s 29ms/step\n"
          ]
        },
        {
          "output_type": "display_data",
          "data": {
            "text/plain": [
              "<Figure size 640x480 with 1 Axes>"
            ],
            "image/png": "[encoded data removed]"
          },
          "metadata": {}
        }
      ]
    }
  ],
  "metadata": {
    "colab": {
      "provenance": [],
      "toc_visible": true,
      "gpuType": "T4"
    },
    "kernelspec": {
      "display_name": "Python 3",
      "name": "python3"
    },
    "accelerator": "GPU"
  },
  "nbformat": 4,
  "nbformat_minor": 0
}